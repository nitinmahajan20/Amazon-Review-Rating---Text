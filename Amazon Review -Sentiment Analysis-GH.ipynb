{
 "cells": [
  {
   "cell_type": "markdown",
   "metadata": {},
   "source": [
    "<font color= 'blue' size = 6 > __Predicting Amazon Ratings Based on Review Text__ <font>"
   ]
  },
  {
   "cell_type": "markdown",
   "metadata": {},
   "source": [
    "<font color= 'blue' size = 5 > __AIM__ </font>\n",
    "    \n",
    "<font size = 4 > Aim of this project is use the reviews of Amazon’s inhouse brand, AmazonBasics, to perform a \"Sentiment Analysis\" of the reviews and to write an algorithm which will predict review ratings based on the TEXT of the reviews posted. </font>"
   ]
  },
  {
   "cell_type": "markdown",
   "metadata": {
    "ExecuteTime": {
     "end_time": "2020-02-04T05:02:12.013581Z",
     "start_time": "2020-02-04T05:02:11.983927Z"
    }
   },
   "source": [
    "<font color= 'blue' size = 5 > __DATA SET__ </font>\n",
    "    \n",
    "<font size = 4 > The data set used in the present project is available at \"data.world\"\n",
    "`https://data.world/datafiniti/consumer-reviews-of-amazon-products`. \n",
    "    \n",
    "The CSV file of the data set is downloaded to local machine. </font>"
   ]
  },
  {
   "cell_type": "code",
   "execution_count": 1,
   "metadata": {
    "ExecuteTime": {
     "end_time": "2020-02-05T06:34:39.632627Z",
     "start_time": "2020-02-05T06:34:37.193998Z"
    }
   },
   "outputs": [],
   "source": [
    "# Import modules \n",
    "import pandas as pd\n",
    "import numpy as np\n",
    "import matplotlib.pyplot as plt\n",
    "import seaborn as sns\n",
    "import re\n",
    "import nltk\n",
    "import sklearn"
   ]
  },
  {
   "cell_type": "code",
   "execution_count": 2,
   "metadata": {
    "ExecuteTime": {
     "end_time": "2020-02-05T06:34:41.024319Z",
     "start_time": "2020-02-05T06:34:39.634218Z"
    }
   },
   "outputs": [],
   "source": [
    "# import dataset\n",
    "df = pd.read_csv('/Users/nitinmahajan/Downloads/Datafiniti_Amazon_Consumer_Reviews_of_Amazon_Products_May19.csv')"
   ]
  },
  {
   "cell_type": "markdown",
   "metadata": {},
   "source": [
    "<font color= 'blue' size = 5 > __Exploratory Data Analysis (EDA)__ </font>"
   ]
  },
  {
   "cell_type": "code",
   "execution_count": 3,
   "metadata": {
    "ExecuteTime": {
     "end_time": "2020-02-05T06:34:41.055263Z",
     "start_time": "2020-02-05T06:34:41.026190Z"
    }
   },
   "outputs": [
    {
     "data": {
      "text/html": [
       "<div>\n",
       "<style scoped>\n",
       "    .dataframe tbody tr th:only-of-type {\n",
       "        vertical-align: middle;\n",
       "    }\n",
       "\n",
       "    .dataframe tbody tr th {\n",
       "        vertical-align: top;\n",
       "    }\n",
       "\n",
       "    .dataframe thead th {\n",
       "        text-align: right;\n",
       "    }\n",
       "</style>\n",
       "<table border=\"1\" class=\"dataframe\">\n",
       "  <thead>\n",
       "    <tr style=\"text-align: right;\">\n",
       "      <th></th>\n",
       "      <th>id</th>\n",
       "      <th>dateAdded</th>\n",
       "      <th>dateUpdated</th>\n",
       "      <th>name</th>\n",
       "      <th>asins</th>\n",
       "      <th>brand</th>\n",
       "      <th>categories</th>\n",
       "      <th>primaryCategories</th>\n",
       "      <th>imageURLs</th>\n",
       "      <th>keys</th>\n",
       "      <th>...</th>\n",
       "      <th>reviews.didPurchase</th>\n",
       "      <th>reviews.doRecommend</th>\n",
       "      <th>reviews.id</th>\n",
       "      <th>reviews.numHelpful</th>\n",
       "      <th>reviews.rating</th>\n",
       "      <th>reviews.sourceURLs</th>\n",
       "      <th>reviews.text</th>\n",
       "      <th>reviews.title</th>\n",
       "      <th>reviews.username</th>\n",
       "      <th>sourceURLs</th>\n",
       "    </tr>\n",
       "  </thead>\n",
       "  <tbody>\n",
       "    <tr>\n",
       "      <td>0</td>\n",
       "      <td>AVpgNzjwLJeJML43Kpxn</td>\n",
       "      <td>2015-10-30T08:59:32Z</td>\n",
       "      <td>2019-04-25T09:08:16Z</td>\n",
       "      <td>AmazonBasics AAA Performance Alkaline Batterie...</td>\n",
       "      <td>B00QWO9P0O,B00LH3DMUO</td>\n",
       "      <td>Amazonbasics</td>\n",
       "      <td>AA,AAA,Health,Electronics,Health &amp; Household,C...</td>\n",
       "      <td>Health &amp; Beauty</td>\n",
       "      <td>https://images-na.ssl-images-amazon.com/images...</td>\n",
       "      <td>amazonbasics/hl002619,amazonbasicsaaaperforman...</td>\n",
       "      <td>...</td>\n",
       "      <td>NaN</td>\n",
       "      <td>NaN</td>\n",
       "      <td>NaN</td>\n",
       "      <td>NaN</td>\n",
       "      <td>3</td>\n",
       "      <td>https://www.amazon.com/product-reviews/B00QWO9...</td>\n",
       "      <td>I order 3 of them and one of the item is bad q...</td>\n",
       "      <td>... 3 of them and one of the item is bad quali...</td>\n",
       "      <td>Byger yang</td>\n",
       "      <td>https://www.barcodable.com/upc/841710106442,ht...</td>\n",
       "    </tr>\n",
       "    <tr>\n",
       "      <td>1</td>\n",
       "      <td>AVpgNzjwLJeJML43Kpxn</td>\n",
       "      <td>2015-10-30T08:59:32Z</td>\n",
       "      <td>2019-04-25T09:08:16Z</td>\n",
       "      <td>AmazonBasics AAA Performance Alkaline Batterie...</td>\n",
       "      <td>B00QWO9P0O,B00LH3DMUO</td>\n",
       "      <td>Amazonbasics</td>\n",
       "      <td>AA,AAA,Health,Electronics,Health &amp; Household,C...</td>\n",
       "      <td>Health &amp; Beauty</td>\n",
       "      <td>https://images-na.ssl-images-amazon.com/images...</td>\n",
       "      <td>amazonbasics/hl002619,amazonbasicsaaaperforman...</td>\n",
       "      <td>...</td>\n",
       "      <td>NaN</td>\n",
       "      <td>NaN</td>\n",
       "      <td>NaN</td>\n",
       "      <td>NaN</td>\n",
       "      <td>4</td>\n",
       "      <td>https://www.amazon.com/product-reviews/B00QWO9...</td>\n",
       "      <td>Bulk is always the less expensive way to go fo...</td>\n",
       "      <td>... always the less expensive way to go for pr...</td>\n",
       "      <td>ByMG</td>\n",
       "      <td>https://www.barcodable.com/upc/841710106442,ht...</td>\n",
       "    </tr>\n",
       "    <tr>\n",
       "      <td>2</td>\n",
       "      <td>AVpgNzjwLJeJML43Kpxn</td>\n",
       "      <td>2015-10-30T08:59:32Z</td>\n",
       "      <td>2019-04-25T09:08:16Z</td>\n",
       "      <td>AmazonBasics AAA Performance Alkaline Batterie...</td>\n",
       "      <td>B00QWO9P0O,B00LH3DMUO</td>\n",
       "      <td>Amazonbasics</td>\n",
       "      <td>AA,AAA,Health,Electronics,Health &amp; Household,C...</td>\n",
       "      <td>Health &amp; Beauty</td>\n",
       "      <td>https://images-na.ssl-images-amazon.com/images...</td>\n",
       "      <td>amazonbasics/hl002619,amazonbasicsaaaperforman...</td>\n",
       "      <td>...</td>\n",
       "      <td>NaN</td>\n",
       "      <td>NaN</td>\n",
       "      <td>NaN</td>\n",
       "      <td>NaN</td>\n",
       "      <td>5</td>\n",
       "      <td>https://www.amazon.com/product-reviews/B00QWO9...</td>\n",
       "      <td>Well they are not Duracell but for the price i...</td>\n",
       "      <td>... are not Duracell but for the price i am ha...</td>\n",
       "      <td>BySharon Lambert</td>\n",
       "      <td>https://www.barcodable.com/upc/841710106442,ht...</td>\n",
       "    </tr>\n",
       "    <tr>\n",
       "      <td>3</td>\n",
       "      <td>AVpgNzjwLJeJML43Kpxn</td>\n",
       "      <td>2015-10-30T08:59:32Z</td>\n",
       "      <td>2019-04-25T09:08:16Z</td>\n",
       "      <td>AmazonBasics AAA Performance Alkaline Batterie...</td>\n",
       "      <td>B00QWO9P0O,B00LH3DMUO</td>\n",
       "      <td>Amazonbasics</td>\n",
       "      <td>AA,AAA,Health,Electronics,Health &amp; Household,C...</td>\n",
       "      <td>Health &amp; Beauty</td>\n",
       "      <td>https://images-na.ssl-images-amazon.com/images...</td>\n",
       "      <td>amazonbasics/hl002619,amazonbasicsaaaperforman...</td>\n",
       "      <td>...</td>\n",
       "      <td>NaN</td>\n",
       "      <td>NaN</td>\n",
       "      <td>NaN</td>\n",
       "      <td>NaN</td>\n",
       "      <td>5</td>\n",
       "      <td>https://www.amazon.com/product-reviews/B00QWO9...</td>\n",
       "      <td>Seem to work as well as name brand batteries a...</td>\n",
       "      <td>... as well as name brand batteries at a much ...</td>\n",
       "      <td>Bymark sexson</td>\n",
       "      <td>https://www.barcodable.com/upc/841710106442,ht...</td>\n",
       "    </tr>\n",
       "    <tr>\n",
       "      <td>4</td>\n",
       "      <td>AVpgNzjwLJeJML43Kpxn</td>\n",
       "      <td>2015-10-30T08:59:32Z</td>\n",
       "      <td>2019-04-25T09:08:16Z</td>\n",
       "      <td>AmazonBasics AAA Performance Alkaline Batterie...</td>\n",
       "      <td>B00QWO9P0O,B00LH3DMUO</td>\n",
       "      <td>Amazonbasics</td>\n",
       "      <td>AA,AAA,Health,Electronics,Health &amp; Household,C...</td>\n",
       "      <td>Health &amp; Beauty</td>\n",
       "      <td>https://images-na.ssl-images-amazon.com/images...</td>\n",
       "      <td>amazonbasics/hl002619,amazonbasicsaaaperforman...</td>\n",
       "      <td>...</td>\n",
       "      <td>NaN</td>\n",
       "      <td>NaN</td>\n",
       "      <td>NaN</td>\n",
       "      <td>NaN</td>\n",
       "      <td>5</td>\n",
       "      <td>https://www.amazon.com/product-reviews/B00QWO9...</td>\n",
       "      <td>These batteries are very long lasting the pric...</td>\n",
       "      <td>... batteries are very long lasting the price ...</td>\n",
       "      <td>Bylinda</td>\n",
       "      <td>https://www.barcodable.com/upc/841710106442,ht...</td>\n",
       "    </tr>\n",
       "  </tbody>\n",
       "</table>\n",
       "<p>5 rows × 24 columns</p>\n",
       "</div>"
      ],
      "text/plain": [
       "                     id             dateAdded           dateUpdated  \\\n",
       "0  AVpgNzjwLJeJML43Kpxn  2015-10-30T08:59:32Z  2019-04-25T09:08:16Z   \n",
       "1  AVpgNzjwLJeJML43Kpxn  2015-10-30T08:59:32Z  2019-04-25T09:08:16Z   \n",
       "2  AVpgNzjwLJeJML43Kpxn  2015-10-30T08:59:32Z  2019-04-25T09:08:16Z   \n",
       "3  AVpgNzjwLJeJML43Kpxn  2015-10-30T08:59:32Z  2019-04-25T09:08:16Z   \n",
       "4  AVpgNzjwLJeJML43Kpxn  2015-10-30T08:59:32Z  2019-04-25T09:08:16Z   \n",
       "\n",
       "                                                name                  asins  \\\n",
       "0  AmazonBasics AAA Performance Alkaline Batterie...  B00QWO9P0O,B00LH3DMUO   \n",
       "1  AmazonBasics AAA Performance Alkaline Batterie...  B00QWO9P0O,B00LH3DMUO   \n",
       "2  AmazonBasics AAA Performance Alkaline Batterie...  B00QWO9P0O,B00LH3DMUO   \n",
       "3  AmazonBasics AAA Performance Alkaline Batterie...  B00QWO9P0O,B00LH3DMUO   \n",
       "4  AmazonBasics AAA Performance Alkaline Batterie...  B00QWO9P0O,B00LH3DMUO   \n",
       "\n",
       "          brand                                         categories  \\\n",
       "0  Amazonbasics  AA,AAA,Health,Electronics,Health & Household,C...   \n",
       "1  Amazonbasics  AA,AAA,Health,Electronics,Health & Household,C...   \n",
       "2  Amazonbasics  AA,AAA,Health,Electronics,Health & Household,C...   \n",
       "3  Amazonbasics  AA,AAA,Health,Electronics,Health & Household,C...   \n",
       "4  Amazonbasics  AA,AAA,Health,Electronics,Health & Household,C...   \n",
       "\n",
       "  primaryCategories                                          imageURLs  \\\n",
       "0   Health & Beauty  https://images-na.ssl-images-amazon.com/images...   \n",
       "1   Health & Beauty  https://images-na.ssl-images-amazon.com/images...   \n",
       "2   Health & Beauty  https://images-na.ssl-images-amazon.com/images...   \n",
       "3   Health & Beauty  https://images-na.ssl-images-amazon.com/images...   \n",
       "4   Health & Beauty  https://images-na.ssl-images-amazon.com/images...   \n",
       "\n",
       "                                                keys  ... reviews.didPurchase  \\\n",
       "0  amazonbasics/hl002619,amazonbasicsaaaperforman...  ...                 NaN   \n",
       "1  amazonbasics/hl002619,amazonbasicsaaaperforman...  ...                 NaN   \n",
       "2  amazonbasics/hl002619,amazonbasicsaaaperforman...  ...                 NaN   \n",
       "3  amazonbasics/hl002619,amazonbasicsaaaperforman...  ...                 NaN   \n",
       "4  amazonbasics/hl002619,amazonbasicsaaaperforman...  ...                 NaN   \n",
       "\n",
       "  reviews.doRecommend reviews.id reviews.numHelpful reviews.rating  \\\n",
       "0                 NaN        NaN                NaN              3   \n",
       "1                 NaN        NaN                NaN              4   \n",
       "2                 NaN        NaN                NaN              5   \n",
       "3                 NaN        NaN                NaN              5   \n",
       "4                 NaN        NaN                NaN              5   \n",
       "\n",
       "                                  reviews.sourceURLs  \\\n",
       "0  https://www.amazon.com/product-reviews/B00QWO9...   \n",
       "1  https://www.amazon.com/product-reviews/B00QWO9...   \n",
       "2  https://www.amazon.com/product-reviews/B00QWO9...   \n",
       "3  https://www.amazon.com/product-reviews/B00QWO9...   \n",
       "4  https://www.amazon.com/product-reviews/B00QWO9...   \n",
       "\n",
       "                                        reviews.text  \\\n",
       "0  I order 3 of them and one of the item is bad q...   \n",
       "1  Bulk is always the less expensive way to go fo...   \n",
       "2  Well they are not Duracell but for the price i...   \n",
       "3  Seem to work as well as name brand batteries a...   \n",
       "4  These batteries are very long lasting the pric...   \n",
       "\n",
       "                                       reviews.title  reviews.username  \\\n",
       "0  ... 3 of them and one of the item is bad quali...        Byger yang   \n",
       "1  ... always the less expensive way to go for pr...              ByMG   \n",
       "2  ... are not Duracell but for the price i am ha...  BySharon Lambert   \n",
       "3  ... as well as name brand batteries at a much ...     Bymark sexson   \n",
       "4  ... batteries are very long lasting the price ...           Bylinda   \n",
       "\n",
       "                                          sourceURLs  \n",
       "0  https://www.barcodable.com/upc/841710106442,ht...  \n",
       "1  https://www.barcodable.com/upc/841710106442,ht...  \n",
       "2  https://www.barcodable.com/upc/841710106442,ht...  \n",
       "3  https://www.barcodable.com/upc/841710106442,ht...  \n",
       "4  https://www.barcodable.com/upc/841710106442,ht...  \n",
       "\n",
       "[5 rows x 24 columns]"
      ]
     },
     "execution_count": 3,
     "metadata": {},
     "output_type": "execute_result"
    }
   ],
   "source": [
    "df.head()"
   ]
  },
  {
   "cell_type": "code",
   "execution_count": 4,
   "metadata": {
    "ExecuteTime": {
     "end_time": "2020-02-05T06:34:41.082320Z",
     "start_time": "2020-02-05T06:34:41.057115Z"
    }
   },
   "outputs": [
    {
     "data": {
      "text/html": [
       "<div>\n",
       "<style scoped>\n",
       "    .dataframe tbody tr th:only-of-type {\n",
       "        vertical-align: middle;\n",
       "    }\n",
       "\n",
       "    .dataframe tbody tr th {\n",
       "        vertical-align: top;\n",
       "    }\n",
       "\n",
       "    .dataframe thead th {\n",
       "        text-align: right;\n",
       "    }\n",
       "</style>\n",
       "<table border=\"1\" class=\"dataframe\">\n",
       "  <thead>\n",
       "    <tr style=\"text-align: right;\">\n",
       "      <th></th>\n",
       "      <th>reviews.id</th>\n",
       "      <th>reviews.numHelpful</th>\n",
       "      <th>reviews.rating</th>\n",
       "    </tr>\n",
       "  </thead>\n",
       "  <tbody>\n",
       "    <tr>\n",
       "      <td>count</td>\n",
       "      <td>4.100000e+01</td>\n",
       "      <td>16115.000000</td>\n",
       "      <td>28332.000000</td>\n",
       "    </tr>\n",
       "    <tr>\n",
       "      <td>mean</td>\n",
       "      <td>1.840066e+08</td>\n",
       "      <td>0.529321</td>\n",
       "      <td>4.514048</td>\n",
       "    </tr>\n",
       "    <tr>\n",
       "      <td>std</td>\n",
       "      <td>2.337036e+07</td>\n",
       "      <td>9.345017</td>\n",
       "      <td>0.934957</td>\n",
       "    </tr>\n",
       "    <tr>\n",
       "      <td>min</td>\n",
       "      <td>1.116244e+08</td>\n",
       "      <td>0.000000</td>\n",
       "      <td>1.000000</td>\n",
       "    </tr>\n",
       "    <tr>\n",
       "      <td>25%</td>\n",
       "      <td>1.843344e+08</td>\n",
       "      <td>0.000000</td>\n",
       "      <td>4.000000</td>\n",
       "    </tr>\n",
       "    <tr>\n",
       "      <td>50%</td>\n",
       "      <td>1.885078e+08</td>\n",
       "      <td>0.000000</td>\n",
       "      <td>5.000000</td>\n",
       "    </tr>\n",
       "    <tr>\n",
       "      <td>75%</td>\n",
       "      <td>1.988160e+08</td>\n",
       "      <td>0.000000</td>\n",
       "      <td>5.000000</td>\n",
       "    </tr>\n",
       "    <tr>\n",
       "      <td>max</td>\n",
       "      <td>2.085304e+08</td>\n",
       "      <td>621.000000</td>\n",
       "      <td>5.000000</td>\n",
       "    </tr>\n",
       "  </tbody>\n",
       "</table>\n",
       "</div>"
      ],
      "text/plain": [
       "         reviews.id  reviews.numHelpful  reviews.rating\n",
       "count  4.100000e+01        16115.000000    28332.000000\n",
       "mean   1.840066e+08            0.529321        4.514048\n",
       "std    2.337036e+07            9.345017        0.934957\n",
       "min    1.116244e+08            0.000000        1.000000\n",
       "25%    1.843344e+08            0.000000        4.000000\n",
       "50%    1.885078e+08            0.000000        5.000000\n",
       "75%    1.988160e+08            0.000000        5.000000\n",
       "max    2.085304e+08          621.000000        5.000000"
      ]
     },
     "execution_count": 4,
     "metadata": {},
     "output_type": "execute_result"
    }
   ],
   "source": [
    "df.describe()"
   ]
  },
  {
   "cell_type": "code",
   "execution_count": 5,
   "metadata": {
    "ExecuteTime": {
     "end_time": "2020-02-05T06:34:41.113823Z",
     "start_time": "2020-02-05T06:34:41.083718Z"
    }
   },
   "outputs": [
    {
     "name": "stdout",
     "output_type": "stream",
     "text": [
      "<class 'pandas.core.frame.DataFrame'>\n",
      "RangeIndex: 28332 entries, 0 to 28331\n",
      "Data columns (total 24 columns):\n",
      "id                     28332 non-null object\n",
      "dateAdded              28332 non-null object\n",
      "dateUpdated            28332 non-null object\n",
      "name                   28332 non-null object\n",
      "asins                  28332 non-null object\n",
      "brand                  28332 non-null object\n",
      "categories             28332 non-null object\n",
      "primaryCategories      28332 non-null object\n",
      "imageURLs              28332 non-null object\n",
      "keys                   28332 non-null object\n",
      "manufacturer           28332 non-null object\n",
      "manufacturerNumber     28332 non-null object\n",
      "reviews.date           28332 non-null object\n",
      "reviews.dateSeen       28332 non-null object\n",
      "reviews.didPurchase    9 non-null object\n",
      "reviews.doRecommend    16086 non-null object\n",
      "reviews.id             41 non-null float64\n",
      "reviews.numHelpful     16115 non-null float64\n",
      "reviews.rating         28332 non-null int64\n",
      "reviews.sourceURLs     28332 non-null object\n",
      "reviews.text           28332 non-null object\n",
      "reviews.title          28332 non-null object\n",
      "reviews.username       28332 non-null object\n",
      "sourceURLs             28332 non-null object\n",
      "dtypes: float64(2), int64(1), object(21)\n",
      "memory usage: 5.2+ MB\n"
     ]
    }
   ],
   "source": [
    "df.info()"
   ]
  },
  {
   "cell_type": "markdown",
   "metadata": {
    "ExecuteTime": {
     "end_time": "2020-02-04T17:39:53.941779Z",
     "start_time": "2020-02-04T17:39:53.937657Z"
    }
   },
   "source": [
    "<font color= 'blue' size = 4 > __Inference-EDA__ </font>\n",
    "\n",
    "1. Data set have a total of 28332 rows and 24 coulmns\n",
    "\n",
    "2. 3 numerical and 21 object variables\n",
    "\n",
    "3. There are many coumns which dont have novel information and therefore can be dropped from the final dataframe.\n",
    "\n",
    "4. Only four coulmns have missing or NAN values.\n",
    "\n",
    "5. We can include the following coulmns (total 11) and drop rest of the coulmns : 'id', 'dateAdded', 'dateUpdated', 'name', 'brand', 'categories', 'primaryCategories', 'reviews.rating', 'reviews.text', 'reviews.title', 'reviews.username'"
   ]
  },
  {
   "cell_type": "code",
   "execution_count": 6,
   "metadata": {
    "ExecuteTime": {
     "end_time": "2020-02-05T06:34:41.122181Z",
     "start_time": "2020-02-05T06:34:41.115114Z"
    }
   },
   "outputs": [],
   "source": [
    "#Clean data frame\n",
    "df_clean = df[['id', 'dateAdded', 'dateUpdated', 'name', 'brand', \n",
    "               'categories', 'primaryCategories', 'reviews.rating', 'reviews.text', \n",
    "               'reviews.title', 'reviews.username']]"
   ]
  },
  {
   "cell_type": "code",
   "execution_count": 7,
   "metadata": {
    "ExecuteTime": {
     "end_time": "2020-02-05T06:34:41.136238Z",
     "start_time": "2020-02-05T06:34:41.123911Z"
    }
   },
   "outputs": [
    {
     "data": {
      "text/html": [
       "<div>\n",
       "<style scoped>\n",
       "    .dataframe tbody tr th:only-of-type {\n",
       "        vertical-align: middle;\n",
       "    }\n",
       "\n",
       "    .dataframe tbody tr th {\n",
       "        vertical-align: top;\n",
       "    }\n",
       "\n",
       "    .dataframe thead th {\n",
       "        text-align: right;\n",
       "    }\n",
       "</style>\n",
       "<table border=\"1\" class=\"dataframe\">\n",
       "  <thead>\n",
       "    <tr style=\"text-align: right;\">\n",
       "      <th></th>\n",
       "      <th>id</th>\n",
       "      <th>dateAdded</th>\n",
       "      <th>dateUpdated</th>\n",
       "      <th>name</th>\n",
       "      <th>brand</th>\n",
       "      <th>categories</th>\n",
       "      <th>primaryCategories</th>\n",
       "      <th>reviews.rating</th>\n",
       "      <th>reviews.text</th>\n",
       "      <th>reviews.title</th>\n",
       "      <th>reviews.username</th>\n",
       "    </tr>\n",
       "  </thead>\n",
       "  <tbody>\n",
       "    <tr>\n",
       "      <td>0</td>\n",
       "      <td>AVpgNzjwLJeJML43Kpxn</td>\n",
       "      <td>2015-10-30T08:59:32Z</td>\n",
       "      <td>2019-04-25T09:08:16Z</td>\n",
       "      <td>AmazonBasics AAA Performance Alkaline Batterie...</td>\n",
       "      <td>Amazonbasics</td>\n",
       "      <td>AA,AAA,Health,Electronics,Health &amp; Household,C...</td>\n",
       "      <td>Health &amp; Beauty</td>\n",
       "      <td>3</td>\n",
       "      <td>I order 3 of them and one of the item is bad q...</td>\n",
       "      <td>... 3 of them and one of the item is bad quali...</td>\n",
       "      <td>Byger yang</td>\n",
       "    </tr>\n",
       "    <tr>\n",
       "      <td>1</td>\n",
       "      <td>AVpgNzjwLJeJML43Kpxn</td>\n",
       "      <td>2015-10-30T08:59:32Z</td>\n",
       "      <td>2019-04-25T09:08:16Z</td>\n",
       "      <td>AmazonBasics AAA Performance Alkaline Batterie...</td>\n",
       "      <td>Amazonbasics</td>\n",
       "      <td>AA,AAA,Health,Electronics,Health &amp; Household,C...</td>\n",
       "      <td>Health &amp; Beauty</td>\n",
       "      <td>4</td>\n",
       "      <td>Bulk is always the less expensive way to go fo...</td>\n",
       "      <td>... always the less expensive way to go for pr...</td>\n",
       "      <td>ByMG</td>\n",
       "    </tr>\n",
       "    <tr>\n",
       "      <td>2</td>\n",
       "      <td>AVpgNzjwLJeJML43Kpxn</td>\n",
       "      <td>2015-10-30T08:59:32Z</td>\n",
       "      <td>2019-04-25T09:08:16Z</td>\n",
       "      <td>AmazonBasics AAA Performance Alkaline Batterie...</td>\n",
       "      <td>Amazonbasics</td>\n",
       "      <td>AA,AAA,Health,Electronics,Health &amp; Household,C...</td>\n",
       "      <td>Health &amp; Beauty</td>\n",
       "      <td>5</td>\n",
       "      <td>Well they are not Duracell but for the price i...</td>\n",
       "      <td>... are not Duracell but for the price i am ha...</td>\n",
       "      <td>BySharon Lambert</td>\n",
       "    </tr>\n",
       "    <tr>\n",
       "      <td>3</td>\n",
       "      <td>AVpgNzjwLJeJML43Kpxn</td>\n",
       "      <td>2015-10-30T08:59:32Z</td>\n",
       "      <td>2019-04-25T09:08:16Z</td>\n",
       "      <td>AmazonBasics AAA Performance Alkaline Batterie...</td>\n",
       "      <td>Amazonbasics</td>\n",
       "      <td>AA,AAA,Health,Electronics,Health &amp; Household,C...</td>\n",
       "      <td>Health &amp; Beauty</td>\n",
       "      <td>5</td>\n",
       "      <td>Seem to work as well as name brand batteries a...</td>\n",
       "      <td>... as well as name brand batteries at a much ...</td>\n",
       "      <td>Bymark sexson</td>\n",
       "    </tr>\n",
       "    <tr>\n",
       "      <td>4</td>\n",
       "      <td>AVpgNzjwLJeJML43Kpxn</td>\n",
       "      <td>2015-10-30T08:59:32Z</td>\n",
       "      <td>2019-04-25T09:08:16Z</td>\n",
       "      <td>AmazonBasics AAA Performance Alkaline Batterie...</td>\n",
       "      <td>Amazonbasics</td>\n",
       "      <td>AA,AAA,Health,Electronics,Health &amp; Household,C...</td>\n",
       "      <td>Health &amp; Beauty</td>\n",
       "      <td>5</td>\n",
       "      <td>These batteries are very long lasting the pric...</td>\n",
       "      <td>... batteries are very long lasting the price ...</td>\n",
       "      <td>Bylinda</td>\n",
       "    </tr>\n",
       "  </tbody>\n",
       "</table>\n",
       "</div>"
      ],
      "text/plain": [
       "                     id             dateAdded           dateUpdated  \\\n",
       "0  AVpgNzjwLJeJML43Kpxn  2015-10-30T08:59:32Z  2019-04-25T09:08:16Z   \n",
       "1  AVpgNzjwLJeJML43Kpxn  2015-10-30T08:59:32Z  2019-04-25T09:08:16Z   \n",
       "2  AVpgNzjwLJeJML43Kpxn  2015-10-30T08:59:32Z  2019-04-25T09:08:16Z   \n",
       "3  AVpgNzjwLJeJML43Kpxn  2015-10-30T08:59:32Z  2019-04-25T09:08:16Z   \n",
       "4  AVpgNzjwLJeJML43Kpxn  2015-10-30T08:59:32Z  2019-04-25T09:08:16Z   \n",
       "\n",
       "                                                name         brand  \\\n",
       "0  AmazonBasics AAA Performance Alkaline Batterie...  Amazonbasics   \n",
       "1  AmazonBasics AAA Performance Alkaline Batterie...  Amazonbasics   \n",
       "2  AmazonBasics AAA Performance Alkaline Batterie...  Amazonbasics   \n",
       "3  AmazonBasics AAA Performance Alkaline Batterie...  Amazonbasics   \n",
       "4  AmazonBasics AAA Performance Alkaline Batterie...  Amazonbasics   \n",
       "\n",
       "                                          categories primaryCategories  \\\n",
       "0  AA,AAA,Health,Electronics,Health & Household,C...   Health & Beauty   \n",
       "1  AA,AAA,Health,Electronics,Health & Household,C...   Health & Beauty   \n",
       "2  AA,AAA,Health,Electronics,Health & Household,C...   Health & Beauty   \n",
       "3  AA,AAA,Health,Electronics,Health & Household,C...   Health & Beauty   \n",
       "4  AA,AAA,Health,Electronics,Health & Household,C...   Health & Beauty   \n",
       "\n",
       "   reviews.rating                                       reviews.text  \\\n",
       "0               3  I order 3 of them and one of the item is bad q...   \n",
       "1               4  Bulk is always the less expensive way to go fo...   \n",
       "2               5  Well they are not Duracell but for the price i...   \n",
       "3               5  Seem to work as well as name brand batteries a...   \n",
       "4               5  These batteries are very long lasting the pric...   \n",
       "\n",
       "                                       reviews.title  reviews.username  \n",
       "0  ... 3 of them and one of the item is bad quali...        Byger yang  \n",
       "1  ... always the less expensive way to go for pr...              ByMG  \n",
       "2  ... are not Duracell but for the price i am ha...  BySharon Lambert  \n",
       "3  ... as well as name brand batteries at a much ...     Bymark sexson  \n",
       "4  ... batteries are very long lasting the price ...           Bylinda  "
      ]
     },
     "execution_count": 7,
     "metadata": {},
     "output_type": "execute_result"
    }
   ],
   "source": [
    "df_clean.head()"
   ]
  },
  {
   "cell_type": "code",
   "execution_count": 8,
   "metadata": {
    "ExecuteTime": {
     "end_time": "2020-02-05T06:34:41.155950Z",
     "start_time": "2020-02-05T06:34:41.138502Z"
    }
   },
   "outputs": [
    {
     "name": "stdout",
     "output_type": "stream",
     "text": [
      "<class 'pandas.core.frame.DataFrame'>\n",
      "RangeIndex: 28332 entries, 0 to 28331\n",
      "Data columns (total 11 columns):\n",
      "id                   28332 non-null object\n",
      "dateAdded            28332 non-null object\n",
      "dateUpdated          28332 non-null object\n",
      "name                 28332 non-null object\n",
      "brand                28332 non-null object\n",
      "categories           28332 non-null object\n",
      "primaryCategories    28332 non-null object\n",
      "reviews.rating       28332 non-null int64\n",
      "reviews.text         28332 non-null object\n",
      "reviews.title        28332 non-null object\n",
      "reviews.username     28332 non-null object\n",
      "dtypes: int64(1), object(10)\n",
      "memory usage: 2.4+ MB\n"
     ]
    }
   ],
   "source": [
    "df_clean.info()"
   ]
  },
  {
   "cell_type": "code",
   "execution_count": 9,
   "metadata": {
    "ExecuteTime": {
     "end_time": "2020-02-05T06:34:41.169873Z",
     "start_time": "2020-02-05T06:34:41.157751Z"
    }
   },
   "outputs": [
    {
     "data": {
      "text/html": [
       "<div>\n",
       "<style scoped>\n",
       "    .dataframe tbody tr th:only-of-type {\n",
       "        vertical-align: middle;\n",
       "    }\n",
       "\n",
       "    .dataframe tbody tr th {\n",
       "        vertical-align: top;\n",
       "    }\n",
       "\n",
       "    .dataframe thead th {\n",
       "        text-align: right;\n",
       "    }\n",
       "</style>\n",
       "<table border=\"1\" class=\"dataframe\">\n",
       "  <thead>\n",
       "    <tr style=\"text-align: right;\">\n",
       "      <th></th>\n",
       "      <th>reviews.rating</th>\n",
       "    </tr>\n",
       "  </thead>\n",
       "  <tbody>\n",
       "    <tr>\n",
       "      <td>count</td>\n",
       "      <td>28332.000000</td>\n",
       "    </tr>\n",
       "    <tr>\n",
       "      <td>mean</td>\n",
       "      <td>4.514048</td>\n",
       "    </tr>\n",
       "    <tr>\n",
       "      <td>std</td>\n",
       "      <td>0.934957</td>\n",
       "    </tr>\n",
       "    <tr>\n",
       "      <td>min</td>\n",
       "      <td>1.000000</td>\n",
       "    </tr>\n",
       "    <tr>\n",
       "      <td>25%</td>\n",
       "      <td>4.000000</td>\n",
       "    </tr>\n",
       "    <tr>\n",
       "      <td>50%</td>\n",
       "      <td>5.000000</td>\n",
       "    </tr>\n",
       "    <tr>\n",
       "      <td>75%</td>\n",
       "      <td>5.000000</td>\n",
       "    </tr>\n",
       "    <tr>\n",
       "      <td>max</td>\n",
       "      <td>5.000000</td>\n",
       "    </tr>\n",
       "  </tbody>\n",
       "</table>\n",
       "</div>"
      ],
      "text/plain": [
       "       reviews.rating\n",
       "count    28332.000000\n",
       "mean         4.514048\n",
       "std          0.934957\n",
       "min          1.000000\n",
       "25%          4.000000\n",
       "50%          5.000000\n",
       "75%          5.000000\n",
       "max          5.000000"
      ]
     },
     "execution_count": 9,
     "metadata": {},
     "output_type": "execute_result"
    }
   ],
   "source": [
    "df_clean.describe()"
   ]
  },
  {
   "cell_type": "code",
   "execution_count": 10,
   "metadata": {
    "ExecuteTime": {
     "end_time": "2020-02-05T06:34:41.180786Z",
     "start_time": "2020-02-05T06:34:41.171213Z"
    }
   },
   "outputs": [
    {
     "name": "stderr",
     "output_type": "stream",
     "text": [
      "/Users/nitinmahajan/opt/anaconda3/lib/python3.7/site-packages/ipykernel_launcher.py:2: SettingWithCopyWarning: \n",
      "A value is trying to be set on a copy of a slice from a DataFrame.\n",
      "Try using .loc[row_indexer,col_indexer] = value instead\n",
      "\n",
      "See the caveats in the documentation: http://pandas.pydata.org/pandas-docs/stable/user_guide/indexing.html#returning-a-view-versus-a-copy\n",
      "  \n"
     ]
    }
   ],
   "source": [
    "#convert reviews.text to string\n",
    "df_clean['reviews.text'] = df_clean['reviews.text'].astype('str')"
   ]
  },
  {
   "cell_type": "markdown",
   "metadata": {},
   "source": [
    "__To get an better idea of the total words (text), I would add new coulmns as word_counts__"
   ]
  },
  {
   "cell_type": "code",
   "execution_count": 11,
   "metadata": {
    "ExecuteTime": {
     "end_time": "2020-02-05T06:34:41.348483Z",
     "start_time": "2020-02-05T06:34:41.182406Z"
    }
   },
   "outputs": [
    {
     "name": "stderr",
     "output_type": "stream",
     "text": [
      "/Users/nitinmahajan/opt/anaconda3/lib/python3.7/site-packages/ipykernel_launcher.py:1: SettingWithCopyWarning: \n",
      "A value is trying to be set on a copy of a slice from a DataFrame.\n",
      "Try using .loc[row_indexer,col_indexer] = value instead\n",
      "\n",
      "See the caveats in the documentation: http://pandas.pydata.org/pandas-docs/stable/user_guide/indexing.html#returning-a-view-versus-a-copy\n",
      "  \"\"\"Entry point for launching an IPython kernel.\n",
      "/Users/nitinmahajan/opt/anaconda3/lib/python3.7/site-packages/ipykernel_launcher.py:2: SettingWithCopyWarning: \n",
      "A value is trying to be set on a copy of a slice from a DataFrame.\n",
      "Try using .loc[row_indexer,col_indexer] = value instead\n",
      "\n",
      "See the caveats in the documentation: http://pandas.pydata.org/pandas-docs/stable/user_guide/indexing.html#returning-a-view-versus-a-copy\n",
      "  \n"
     ]
    }
   ],
   "source": [
    "df_clean['text_word_count'] = df_clean['reviews.text'].str.split().str.len()\n",
    "df_clean['title_word_count'] = df_clean['reviews.title'].str.split().str.len()"
   ]
  },
  {
   "cell_type": "code",
   "execution_count": 12,
   "metadata": {
    "ExecuteTime": {
     "end_time": "2020-02-05T06:34:41.363422Z",
     "start_time": "2020-02-05T06:34:41.349964Z"
    }
   },
   "outputs": [
    {
     "data": {
      "text/html": [
       "<div>\n",
       "<style scoped>\n",
       "    .dataframe tbody tr th:only-of-type {\n",
       "        vertical-align: middle;\n",
       "    }\n",
       "\n",
       "    .dataframe tbody tr th {\n",
       "        vertical-align: top;\n",
       "    }\n",
       "\n",
       "    .dataframe thead th {\n",
       "        text-align: right;\n",
       "    }\n",
       "</style>\n",
       "<table border=\"1\" class=\"dataframe\">\n",
       "  <thead>\n",
       "    <tr style=\"text-align: right;\">\n",
       "      <th></th>\n",
       "      <th>id</th>\n",
       "      <th>dateAdded</th>\n",
       "      <th>dateUpdated</th>\n",
       "      <th>name</th>\n",
       "      <th>brand</th>\n",
       "      <th>categories</th>\n",
       "      <th>primaryCategories</th>\n",
       "      <th>reviews.rating</th>\n",
       "      <th>reviews.text</th>\n",
       "      <th>reviews.title</th>\n",
       "      <th>reviews.username</th>\n",
       "      <th>text_word_count</th>\n",
       "      <th>title_word_count</th>\n",
       "    </tr>\n",
       "  </thead>\n",
       "  <tbody>\n",
       "    <tr>\n",
       "      <td>0</td>\n",
       "      <td>AVpgNzjwLJeJML43Kpxn</td>\n",
       "      <td>2015-10-30T08:59:32Z</td>\n",
       "      <td>2019-04-25T09:08:16Z</td>\n",
       "      <td>AmazonBasics AAA Performance Alkaline Batterie...</td>\n",
       "      <td>Amazonbasics</td>\n",
       "      <td>AA,AAA,Health,Electronics,Health &amp; Household,C...</td>\n",
       "      <td>Health &amp; Beauty</td>\n",
       "      <td>3</td>\n",
       "      <td>I order 3 of them and one of the item is bad q...</td>\n",
       "      <td>... 3 of them and one of the item is bad quali...</td>\n",
       "      <td>Byger yang</td>\n",
       "      <td>31</td>\n",
       "      <td>20</td>\n",
       "    </tr>\n",
       "    <tr>\n",
       "      <td>1</td>\n",
       "      <td>AVpgNzjwLJeJML43Kpxn</td>\n",
       "      <td>2015-10-30T08:59:32Z</td>\n",
       "      <td>2019-04-25T09:08:16Z</td>\n",
       "      <td>AmazonBasics AAA Performance Alkaline Batterie...</td>\n",
       "      <td>Amazonbasics</td>\n",
       "      <td>AA,AAA,Health,Electronics,Health &amp; Household,C...</td>\n",
       "      <td>Health &amp; Beauty</td>\n",
       "      <td>4</td>\n",
       "      <td>Bulk is always the less expensive way to go fo...</td>\n",
       "      <td>... always the less expensive way to go for pr...</td>\n",
       "      <td>ByMG</td>\n",
       "      <td>13</td>\n",
       "      <td>11</td>\n",
       "    </tr>\n",
       "    <tr>\n",
       "      <td>2</td>\n",
       "      <td>AVpgNzjwLJeJML43Kpxn</td>\n",
       "      <td>2015-10-30T08:59:32Z</td>\n",
       "      <td>2019-04-25T09:08:16Z</td>\n",
       "      <td>AmazonBasics AAA Performance Alkaline Batterie...</td>\n",
       "      <td>Amazonbasics</td>\n",
       "      <td>AA,AAA,Health,Electronics,Health &amp; Household,C...</td>\n",
       "      <td>Health &amp; Beauty</td>\n",
       "      <td>5</td>\n",
       "      <td>Well they are not Duracell but for the price i...</td>\n",
       "      <td>... are not Duracell but for the price i am ha...</td>\n",
       "      <td>BySharon Lambert</td>\n",
       "      <td>12</td>\n",
       "      <td>11</td>\n",
       "    </tr>\n",
       "    <tr>\n",
       "      <td>3</td>\n",
       "      <td>AVpgNzjwLJeJML43Kpxn</td>\n",
       "      <td>2015-10-30T08:59:32Z</td>\n",
       "      <td>2019-04-25T09:08:16Z</td>\n",
       "      <td>AmazonBasics AAA Performance Alkaline Batterie...</td>\n",
       "      <td>Amazonbasics</td>\n",
       "      <td>AA,AAA,Health,Electronics,Health &amp; Household,C...</td>\n",
       "      <td>Health &amp; Beauty</td>\n",
       "      <td>5</td>\n",
       "      <td>Seem to work as well as name brand batteries a...</td>\n",
       "      <td>... as well as name brand batteries at a much ...</td>\n",
       "      <td>Bymark sexson</td>\n",
       "      <td>14</td>\n",
       "      <td>11</td>\n",
       "    </tr>\n",
       "    <tr>\n",
       "      <td>4</td>\n",
       "      <td>AVpgNzjwLJeJML43Kpxn</td>\n",
       "      <td>2015-10-30T08:59:32Z</td>\n",
       "      <td>2019-04-25T09:08:16Z</td>\n",
       "      <td>AmazonBasics AAA Performance Alkaline Batterie...</td>\n",
       "      <td>Amazonbasics</td>\n",
       "      <td>AA,AAA,Health,Electronics,Health &amp; Household,C...</td>\n",
       "      <td>Health &amp; Beauty</td>\n",
       "      <td>5</td>\n",
       "      <td>These batteries are very long lasting the pric...</td>\n",
       "      <td>... batteries are very long lasting the price ...</td>\n",
       "      <td>Bylinda</td>\n",
       "      <td>10</td>\n",
       "      <td>10</td>\n",
       "    </tr>\n",
       "  </tbody>\n",
       "</table>\n",
       "</div>"
      ],
      "text/plain": [
       "                     id             dateAdded           dateUpdated  \\\n",
       "0  AVpgNzjwLJeJML43Kpxn  2015-10-30T08:59:32Z  2019-04-25T09:08:16Z   \n",
       "1  AVpgNzjwLJeJML43Kpxn  2015-10-30T08:59:32Z  2019-04-25T09:08:16Z   \n",
       "2  AVpgNzjwLJeJML43Kpxn  2015-10-30T08:59:32Z  2019-04-25T09:08:16Z   \n",
       "3  AVpgNzjwLJeJML43Kpxn  2015-10-30T08:59:32Z  2019-04-25T09:08:16Z   \n",
       "4  AVpgNzjwLJeJML43Kpxn  2015-10-30T08:59:32Z  2019-04-25T09:08:16Z   \n",
       "\n",
       "                                                name         brand  \\\n",
       "0  AmazonBasics AAA Performance Alkaline Batterie...  Amazonbasics   \n",
       "1  AmazonBasics AAA Performance Alkaline Batterie...  Amazonbasics   \n",
       "2  AmazonBasics AAA Performance Alkaline Batterie...  Amazonbasics   \n",
       "3  AmazonBasics AAA Performance Alkaline Batterie...  Amazonbasics   \n",
       "4  AmazonBasics AAA Performance Alkaline Batterie...  Amazonbasics   \n",
       "\n",
       "                                          categories primaryCategories  \\\n",
       "0  AA,AAA,Health,Electronics,Health & Household,C...   Health & Beauty   \n",
       "1  AA,AAA,Health,Electronics,Health & Household,C...   Health & Beauty   \n",
       "2  AA,AAA,Health,Electronics,Health & Household,C...   Health & Beauty   \n",
       "3  AA,AAA,Health,Electronics,Health & Household,C...   Health & Beauty   \n",
       "4  AA,AAA,Health,Electronics,Health & Household,C...   Health & Beauty   \n",
       "\n",
       "   reviews.rating                                       reviews.text  \\\n",
       "0               3  I order 3 of them and one of the item is bad q...   \n",
       "1               4  Bulk is always the less expensive way to go fo...   \n",
       "2               5  Well they are not Duracell but for the price i...   \n",
       "3               5  Seem to work as well as name brand batteries a...   \n",
       "4               5  These batteries are very long lasting the pric...   \n",
       "\n",
       "                                       reviews.title  reviews.username  \\\n",
       "0  ... 3 of them and one of the item is bad quali...        Byger yang   \n",
       "1  ... always the less expensive way to go for pr...              ByMG   \n",
       "2  ... are not Duracell but for the price i am ha...  BySharon Lambert   \n",
       "3  ... as well as name brand batteries at a much ...     Bymark sexson   \n",
       "4  ... batteries are very long lasting the price ...           Bylinda   \n",
       "\n",
       "   text_word_count  title_word_count  \n",
       "0               31                20  \n",
       "1               13                11  \n",
       "2               12                11  \n",
       "3               14                11  \n",
       "4               10                10  "
      ]
     },
     "execution_count": 12,
     "metadata": {},
     "output_type": "execute_result"
    }
   ],
   "source": [
    "df_clean.head()\n",
    "# the neew data frame has Total 13 columns"
   ]
  },
  {
   "cell_type": "code",
   "execution_count": 13,
   "metadata": {
    "ExecuteTime": {
     "end_time": "2020-02-05T06:34:41.384334Z",
     "start_time": "2020-02-05T06:34:41.364857Z"
    }
   },
   "outputs": [
    {
     "data": {
      "text/html": [
       "<div>\n",
       "<style scoped>\n",
       "    .dataframe tbody tr th:only-of-type {\n",
       "        vertical-align: middle;\n",
       "    }\n",
       "\n",
       "    .dataframe tbody tr th {\n",
       "        vertical-align: top;\n",
       "    }\n",
       "\n",
       "    .dataframe thead th {\n",
       "        text-align: right;\n",
       "    }\n",
       "</style>\n",
       "<table border=\"1\" class=\"dataframe\">\n",
       "  <thead>\n",
       "    <tr style=\"text-align: right;\">\n",
       "      <th></th>\n",
       "      <th>reviews.rating</th>\n",
       "      <th>text_word_count</th>\n",
       "      <th>title_word_count</th>\n",
       "    </tr>\n",
       "  </thead>\n",
       "  <tbody>\n",
       "    <tr>\n",
       "      <td>count</td>\n",
       "      <td>28332.000000</td>\n",
       "      <td>28332.000000</td>\n",
       "      <td>28332.000000</td>\n",
       "    </tr>\n",
       "    <tr>\n",
       "      <td>mean</td>\n",
       "      <td>4.514048</td>\n",
       "      <td>25.945009</td>\n",
       "      <td>3.656749</td>\n",
       "    </tr>\n",
       "    <tr>\n",
       "      <td>std</td>\n",
       "      <td>0.934957</td>\n",
       "      <td>37.075899</td>\n",
       "      <td>2.614603</td>\n",
       "    </tr>\n",
       "    <tr>\n",
       "      <td>min</td>\n",
       "      <td>1.000000</td>\n",
       "      <td>1.000000</td>\n",
       "      <td>1.000000</td>\n",
       "    </tr>\n",
       "    <tr>\n",
       "      <td>25%</td>\n",
       "      <td>4.000000</td>\n",
       "      <td>10.000000</td>\n",
       "      <td>2.000000</td>\n",
       "    </tr>\n",
       "    <tr>\n",
       "      <td>50%</td>\n",
       "      <td>5.000000</td>\n",
       "      <td>17.000000</td>\n",
       "      <td>3.000000</td>\n",
       "    </tr>\n",
       "    <tr>\n",
       "      <td>75%</td>\n",
       "      <td>5.000000</td>\n",
       "      <td>31.000000</td>\n",
       "      <td>5.000000</td>\n",
       "    </tr>\n",
       "    <tr>\n",
       "      <td>max</td>\n",
       "      <td>5.000000</td>\n",
       "      <td>1539.000000</td>\n",
       "      <td>28.000000</td>\n",
       "    </tr>\n",
       "  </tbody>\n",
       "</table>\n",
       "</div>"
      ],
      "text/plain": [
       "       reviews.rating  text_word_count  title_word_count\n",
       "count    28332.000000     28332.000000      28332.000000\n",
       "mean         4.514048        25.945009          3.656749\n",
       "std          0.934957        37.075899          2.614603\n",
       "min          1.000000         1.000000          1.000000\n",
       "25%          4.000000        10.000000          2.000000\n",
       "50%          5.000000        17.000000          3.000000\n",
       "75%          5.000000        31.000000          5.000000\n",
       "max          5.000000      1539.000000         28.000000"
      ]
     },
     "execution_count": 13,
     "metadata": {},
     "output_type": "execute_result"
    }
   ],
   "source": [
    "df_clean.describe()\n",
    "#Now total 3 numerical coulmns"
   ]
  },
  {
   "cell_type": "code",
   "execution_count": 14,
   "metadata": {
    "ExecuteTime": {
     "end_time": "2020-02-05T06:34:41.403424Z",
     "start_time": "2020-02-05T06:34:41.385623Z"
    }
   },
   "outputs": [
    {
     "name": "stdout",
     "output_type": "stream",
     "text": [
      "<class 'pandas.core.frame.DataFrame'>\n",
      "RangeIndex: 28332 entries, 0 to 28331\n",
      "Data columns (total 13 columns):\n",
      "id                   28332 non-null object\n",
      "dateAdded            28332 non-null object\n",
      "dateUpdated          28332 non-null object\n",
      "name                 28332 non-null object\n",
      "brand                28332 non-null object\n",
      "categories           28332 non-null object\n",
      "primaryCategories    28332 non-null object\n",
      "reviews.rating       28332 non-null int64\n",
      "reviews.text         28332 non-null object\n",
      "reviews.title        28332 non-null object\n",
      "reviews.username     28332 non-null object\n",
      "text_word_count      28332 non-null int64\n",
      "title_word_count     28332 non-null int64\n",
      "dtypes: int64(3), object(10)\n",
      "memory usage: 2.8+ MB\n"
     ]
    }
   ],
   "source": [
    "df_clean.info()"
   ]
  },
  {
   "cell_type": "code",
   "execution_count": 15,
   "metadata": {
    "ExecuteTime": {
     "end_time": "2020-02-05T06:34:42.062592Z",
     "start_time": "2020-02-05T06:34:41.404865Z"
    }
   },
   "outputs": [
    {
     "data": {
      "image/png": "[encoded data removed]",
      "text/plain": [
       "<Figure size 1080x432 with 1 Axes>"
      ]
     },
     "metadata": {
      "needs_background": "light"
     },
     "output_type": "display_data"
    }
   ],
   "source": [
    "# Visualization of missing values as heatmap\n",
    "import matplotlib.style as style #sets the size of the charts\n",
    "plt.figure(figsize=(15,6))\n",
    "plt.title('Missing Values (HeatMap)', fontsize = 16)\n",
    "sns.heatmap(df_clean.isnull(),cbar=False,yticklabels=False,cmap = 'copper_r') #Check 'cmap'\n",
    "plt.show()"
   ]
  },
  {
   "cell_type": "markdown",
   "metadata": {},
   "source": [
    "__`df_clean` with 13 columns and 28332 rows is the final clean data frame we will be using for the SENTIMENT ANALYSIS__"
   ]
  },
  {
   "cell_type": "code",
   "execution_count": 16,
   "metadata": {
    "ExecuteTime": {
     "end_time": "2020-02-05T06:34:42.290630Z",
     "start_time": "2020-02-05T06:34:42.063944Z"
    }
   },
   "outputs": [
    {
     "data": {
      "text/plain": [
       "Text(0, 0.5, 'Number of Reviews')"
      ]
     },
     "execution_count": 16,
     "metadata": {},
     "output_type": "execute_result"
    },
    {
     "data": {
      "image/png": "[encoded data removed]",
      "text/plain": [
       "<Figure size 432x288 with 1 Axes>"
      ]
     },
     "metadata": {
      "needs_background": "light"
     },
     "output_type": "display_data"
    }
   ],
   "source": [
    "sns.distplot(df_clean['reviews.rating'], color='green')\n",
    "plt.title('Distribution of Ratings on Amazon Reviews')\n",
    "plt.xlabel('Rating')\n",
    "plt.ylabel('Number of Reviews')"
   ]
  },
  {
   "cell_type": "markdown",
   "metadata": {
    "ExecuteTime": {
     "end_time": "2020-02-04T18:56:08.044276Z",
     "start_time": "2020-02-04T18:56:08.039286Z"
    }
   },
   "source": [
    "<font color= 'blue' size = 4 > __Inference__ </font>\n",
    "\n",
    "- Very strong left skew. \n",
    "\n",
    "- `Note` - Might have an effect on final model "
   ]
  },
  {
   "cell_type": "code",
   "execution_count": 17,
   "metadata": {
    "ExecuteTime": {
     "end_time": "2020-02-05T06:34:42.403555Z",
     "start_time": "2020-02-05T06:34:42.292039Z"
    }
   },
   "outputs": [
    {
     "data": {
      "text/plain": [
       "<matplotlib.axes._subplots.AxesSubplot at 0x1a285d8ed0>"
      ]
     },
     "execution_count": 17,
     "metadata": {},
     "output_type": "execute_result"
    },
    {
     "data": {
      "image/png": "[encoded data removed]",
      "text/plain": [
       "<Figure size 288x576 with 1 Axes>"
      ]
     },
     "metadata": {
      "needs_background": "light"
     },
     "output_type": "display_data"
    }
   ],
   "source": [
    "plt.figure(figsize=(4, 8))\n",
    "plt.title('BoxPlot \"Title Word Count\"', fontsize = 10)\n",
    "sns.boxplot(y= df_clean[\"title_word_count\"])"
   ]
  },
  {
   "cell_type": "markdown",
   "metadata": {
    "ExecuteTime": {
     "end_time": "2020-02-04T19:07:24.508930Z",
     "start_time": "2020-02-04T19:07:24.504836Z"
    }
   },
   "source": [
    "<font color= 'blue' size = 4 > __Inference__ </font>\n",
    "\n",
    "- There are few outliers, which we can trim. "
   ]
  },
  {
   "cell_type": "code",
   "execution_count": 18,
   "metadata": {
    "ExecuteTime": {
     "end_time": "2020-02-05T06:34:42.413172Z",
     "start_time": "2020-02-05T06:34:42.404953Z"
    },
    "scrolled": false
   },
   "outputs": [
    {
     "data": {
      "text/plain": [
       "AA,AAA,Health,Electronics,Health & Household,Camcorder Batteries,Camera & Photo,Batteries,Household Batteries,Robot Check,Accessories,Camera Batteries,Health and Beauty,Household Supplies,Batteries & Chargers,Health, Household & Baby Care,Health Personal Care                                                                                                                                                                                                                                                                                                                                                                                                                                                                                                                                                                                                                                                                                                           8343\n",
       "AA,AAA,Electronics Features,Health,Electronics,Health & Household,Camcorder Batteries,Camera & Photo,Batteries,Household Batteries,Accessories,Camera Batteries,Health and Beauty,Household Supplies,Batteries & Chargers,Health, Household & Baby Care,Health Personal Care                                                                                                                                                                                                                                                                                                                                                                                                                                                                                                                                                                                                                                                                                                  3728\n",
       "Fire Tablets,Tablets,All Tablets,Amazon Tablets,Genuine Tablet Accessories,Computers & Tablets,Electronics,Amazon                                                                                                                                                                                                                                                                                                                                                                                                                                                                                                                                                                                                                                                                                                                                                                                                                                                             2443\n",
       "Fire Tablets,Tablets,All Tablets,Amazon Tablets,Computers & Tablets                                                                                                                                                                                                                                                                                                                                                                                                                                                                                                                                                                                                                                                                                                                                                                                                                                                                                                           2407\n",
       "Fire Tablets,Computers/Tablets & Networking,Electronics Features,Tablets,All Tablets,Amazon Tablets,Computers & Tablets,Electronics,iPad & Tablets,Tablets & eBook Readers                                                                                                                                                                                                                                                                                                                                                                                                                                                                                                                                                                                                                                                                                                                                                                                                    2370\n",
       "Fire Tablets,Learning Toys,Toys,Tablets,Amazon Tablets,Electronics, Tech Toys, Movies, Music,Computers & Tablets,Kids' Tablets,Electronics,iPad & Tablets,Tablets for Kids                                                                                                                                                                                                                                                                                                                                                                                                                                                                                                                                                                                                                                                                                                                                                                                                    1676\n",
       "Computers,Fire Tablets,Electronics Features,Computer Accessories,Tablets,Top Rated,Amazon Tablets,Electronics,Kids' Tablets,iPad & Tablets,Cases & Bags,Electronics, Tech Toys, Movies, Music,Computers & Tablets                                                                                                                                                                                                                                                                                                                                                                                                                                                                                                                                                                                                                                                                                                                                                             1425\n",
       "Fire Tablets,Computers/Tablets & Networking,Tablets,All Tablets,Amazon Tablets,Frys,Computers & Tablets,Tablets & eBook Readers                                                                                                                                                                                                                                                                                                                                                                                                                                                                                                                                                                                                                                                                                                                                                                                                                                               1024\n",
       "Fire Tablets,Computers/Tablets & Networking,Tablets,All Tablets,Amazon Tablets,Computers & Tablets,Tablets & eBook Readers                                                                                                                                                                                                                                                                                                                                                                                                                                                                                                                                                                                                                                                                                                                                                                                                                                                     987\n",
       "Fire Tablets,Android Tablets,Tablets,All Tablets,Amazon Tablets,Electronics,Computers & Tablets,iPad & Tablets                                                                                                                                                                                                                                                                                                                                                                                                                                                                                                                                                                                                                                                                                                                                                                                                                                                                 745\n",
       "Amazon Echo,Home Theater & Audio,MP3 MP4 Player Accessories,Smart Speakers,Electronics,Portable Audio,Compact Radios Stereos,Smart Hubs & Wireless Routers,Featured Brands,Smart Home & Connected Living,Home Security,Kindle Store,Electronic Components,Home Automation,Smart Speakers, Hubs & Accessories,Mobile Bluetooth Speakers,Home, Garage & Office,Amazon Tap,Home,Mobile Speakers,TVs & Electronics,Portable Bluetooth Speakers,Bluetooth & Wireless Speakers,Electronics Features,TV, Video & Home Audio,Frys,Media Streamers,Speakers,Mobile,Digital Device 3,Consumer Electronics,Smart Home,Home Improvement,Electronics, Tech Toys, Movies, Music,Smart Home & Home Automation Devices,Smart Hubs,MP3 Player Accessories,Home Safety & Security,Voice Assistants,Amazon Home,Alarms & Sensors,Surveillance & Smart Home Electronics,Portable Audio & Electronics,Amazon Devices,Audio,Bluetooth Speakers,MP3 Accessories,All Bluetooth & Wireless Speakers     601\n",
       "eBook Readers,Electronics Features,Walmart for Business,Tablets,See more Amazon Kindle Voyage (Wi-Fi),Electronics,Amazon Ereaders,Office Electronics,iPad & Tablets,Kindle E-readers,E-Readers & Accessories,All Tablets,See more Amazon Kindle Voyage 4GB, Wi-Fi  3G (Unlocked...,Amazon Book Reader,Computers & Tablets                                                                                                                                                                                                                                                                                                                                                                                                                                                                                                                                                                                                                                                      505\n",
       "Fire Tablets,Tablets,Amazon Tablets,Computers & Tablets,Kids' Tablets                                                                                                                                                                                                                                                                                                                                                                                                                                                                                                                                                                                                                                                                                                                                                                                                                                                                                                          293\n",
       "Office,eBook Readers,Electronics Features,Walmart for Business,Tablets,Electronics,Amazon Ereaders,Office Electronics,iPad & Tablets,Kindle E-readers,All Tablets,Amazon Book Reader,Computers & Tablets                                                                                                                                                                                                                                                                                                                                                                                                                                                                                                                                                                                                                                                                                                                                                                       287\n",
       "Fire Tablets,Computers/Tablets & Networking,Walmart for Business,Tablets,Amazon Tablets,Tablets & E-readers,Kids' Tablets,Electronics,Computers & Tablets,Office Electronics,Amazon,Tablets & eBook Readers                                                                                                                                                                                                                                                                                                                                                                                                                                                                                                                                                                                                                                                                                                                                                                    233\n",
       "Fire Tablets,Computers/Tablets & Networking,Tablets,All Tablets,Amazon Tablets,Computers & Tablets,Electronics,Amazon,Tablets & eBook Readers                                                                                                                                                                                                                                                                                                                                                                                                                                                                                                                                                                                                                                                                                                                                                                                                                                  160\n",
       "Fire Tablets,Computers/Tablets & Networking,Tablets,All Tablets,Amazon Tablets,Computers & Tablets,Other Computers & Networking                                                                                                                                                                                                                                                                                                                                                                                                                                                                                                                                                                                                                                                                                                                                                                                                                                                140\n",
       "Fire Tablets,Computers/Tablets & Networking,Tablets,All Tablets,Amazon Tablets,Computers & Tablets,Electronics,Amazon,Tablets & eBook Readers,Tablets & E-Readers                                                                                                                                                                                                                                                                                                                                                                                                                                                                                                                                                                                                                                                                                                                                                                                                              130\n",
       "Fire Tablets,Computers,Tablets,All Tablets,Amazon Tablets,Computer Components,Electronics,Hard Drives & Storage,Computers & Tablets                                                                                                                                                                                                                                                                                                                                                                                                                                                                                                                                                                                                                                                                                                                                                                                                                                            115\n",
       "eBook Readers,Fire Tablets,Electronics Features,Tablets,Amazon Tablets,College Ipads & Tablets,Electronics,Electronics Deals,College Electronics,Featured Brands,All Tablets,Computers & Tablets,Back To College,Amazon Devices,Tablets & E-Readers                                                                                                                                                                                                                                                                                                                                                                                                                                                                                                                                                                                                                                                                                                                             99\n",
       "Fire Tablets,Computers/Tablets & Networking,Android Tablets,Tablets,All Tablets,Amazon Tablets,Electronics,Computers & Tablets,iPad & Tablets,Amazon,Tablets & eBook Readers,Tablets & E-Readers                                                                                                                                                                                                                                                                                                                                                                                                                                                                                                                                                                                                                                                                                                                                                                                82\n",
       "E-Readers & Accessories,EBook Readers,Amazon Book Reader,Computers & Tablets,Amazon Ereaders,Kindle E-readers,E-Readers                                                                                                                                                                                                                                                                                                                                                                                                                                                                                                                                                                                                                                                                                                                                                                                                                                                         69\n",
       "Fire Tablets,Tablets,All Tablets,Amazon Tablets                                                                                                                                                                                                                                                                                                                                                                                                                                                                                                                                                                                                                                                                                                                                                                                                                                                                                                                                 67\n",
       "eBook Readers,E-Readers & Accessories,Electronics Features,Amazon Book Reader,Computers & Tablets,Amazon Ereaders,Kindle E-readers,E-Readers                                                                                                                                                                                                                                                                                                                                                                                                                                                                                                                                                                                                                                                                                                                                                                                                                                    55\n",
       "eBook Readers,E-Readers & Accessories,Amazon Book Reader,Computers & Tablets,Amazon Ereaders,Kindle E-readers,E-Readers                                                                                                                                                                                                                                                                                                                                                                                                                                                                                                                                                                                                                                                                                                                                                                                                                                                         54\n",
       "Computers & Accessories,Tablet & E-Reader Accessories,Amazon Devices & Accessories,Electronics,Power Adapters & Cables,Computers Features,Cell Phone Accessories,Cell Phone Batteries & Power,Digital Device Accessory,Tablet Accessories,Featured Brands,Kindle Fire (2nd Generation) Accessories,Kindle Store,Kindle Accessories,Power Adapters Cables,Electrical,Home,Tablets & E-Readers,Chargers Adapters,Chargers & Adapters,Electronics Features,Fire Tablet Accessories,Amazon Book Reader Accessory,Cell Phones,Amazon Device Accessories,Home Improvement,Fire (5th Generation) Accessories,Amazon Devices,Cables & Chargers                                                                                                                                                                                                                                                                                                                                          39\n",
       "eBook Readers,E-Readers & Accessories,Amazon Book Reader,Computers & Tablets,Amazon Ereaders,Kindle E-readers                                                                                                                                                                                                                                                                                                                                                                                                                                                                                                                                                                                                                                                                                                                                                                                                                                                                   36\n",
       "Portable Computer Accessories,Bags, Cases & Sleeves,Accessories,Computers & Accessories,Laptop Accessories,Electronics,Backpacks                                                                                                                                                                                                                                                                                                                                                                                                                                                                                                                                                                                                                                                                                                                                                                                                                                                25\n",
       "EBook Readers,Tablets,Electronics,Amazon Ereaders,Kindle E-readers,E-Readers,Featured Brands,E-Readers & Accessories,Amazon Book Reader,Computers & Tablets,Amazon Devices,Amazon,Tablets & E-Readers                                                                                                                                                                                                                                                                                                                                                                                                                                                                                                                                                                                                                                                                                                                                                                           22\n",
       "Bags, Cases & Sleeves,Computers & Accessories,See more AmazonBasics 15.6 Inch Laptop And Tablet Bag -...,Electronics,Tablet Accessories,Accessories,Computers/Tablets & Networking,Messenger Bags,Bags,Laptop & Desktop Accessories,Laptop Cases & Bags,Laptop Accessories,Cases,computers,Backpacks                                                                                                                                                                                                                                                                                                                                                                                                                                                                                                                                                                                                                                                                            21\n",
       "Computers,Electronics Features,EBook Readers,Tablets,Electronics,Amazon Ereaders,iPad & Tablets,Kindle E-readers,iPad Accessories,Used:Tablets,E-Readers,E-Readers & Accessories,Computers/Tablets & Networking,Used:Computers Accessories,iPads Tablets,All Tablets,Tablets & E-readers,Amazon Book Reader,Computers & Tablets,Amazon,Tablets & eBook Readers                                                                                                                                                                                                                                                                                                                                                                                                                                                                                                                                                                                                                  17\n",
       "Amazon Echo,See more Amazon Echo (1st Generation) Smart Assistant -...,Smart Speakers,Smart Speaker & Hub Accessories,Electronics,Digital Device 3,Consumer Electronics,Home Audio & Home Theater,Smart Speakers, Hubs & Accessories,Amazon Home,Surveillance & Smart Home Electronics,Amazon,Voice-Enabled Smart Assistants,Home Audio Speakers                                                                                                                                                                                                                                                                                                                                                                                                                                                                                                                                                                                                                                13\n",
       "Laptop Computer Stands,Electronics Features,Stands, Holders & Car Mounts,Home Office Furniture,Electronics,Office & School Supplies,Computers Features,Personal Computer,Office Furniture & Lighting,Furniture,Office Products,Desk Accessories & Workspace Organizers,Office Furniture Lighting,Computer Add On,Stands,Computers/Tablets & Networking,Platforms, Stands & Shelves,Laptop & Desktop Accessories,Laptop Cases & Bags,Notebook Computer Stands                                                                                                                                                                                                                                                                                                                                                                                                                                                                                                                    12\n",
       "Computers & Accessories,Computer Accessories & Peripherals,Electronics,Power Adapters & Cables,Amazon Book Reader Accessory,Digital Device Accessory,Cables & Interconnects,Tablet & eBook Reader Accs,Computers/Tablets & Networking,USB Cables,See more Amazon Kindle Fire 5-Feet Micro USB Cable - Wh...,Power Adapters Cables,Chargers & Sync Cables                                                                                                                                                                                                                                                                                                                                                                                                                                                                                                                                                                                                                         9\n",
       "Office,File Jackets & File Pockets,File Folders & Accessories,Files & Supplies,Office Solutions,Office Supplies,Office Product,Business & Industrial,Office & School Supplies,Expanding File Jackets Pockets,Smead,Office Products,File & Folder Accessories,Filing, Storage & Binding,Accessories,Expanding Files,See more File Pocket Expanding Folder Office Organizer ...,Filing Products,Expanding Wallets,Filing & Organizers,Expanding File Jackets & Pockets                                                                                                                                                                                                                                                                                                                                                                                                                                                                                                             9\n",
       "Consumer Electronics,Amazon Echo,Smart Speakers, Hubs & Accessories,Smart Speakers,Amazon Home,Surveillance & Smart Home Electronics,Digital Device 3                                                                                                                                                                                                                                                                                                                                                                                                                                                                                                                                                                                                                                                                                                                                                                                                                            7\n",
       "Portable Computer Accessories,Bags, Cases & Sleeves,Accessories,Sleeves,Computers & Accessories,Laptop Accessories,Electronics,computers                                                                                                                                                                                                                                                                                                                                                                                                                                                                                                                                                                                                                                                                                                                                                                                                                                         6\n",
       "Accessories,USB Cables,Computers & Accessories,Computer Accessories & Peripherals,Electronics,Cables,Cables & Interconnects                                                                                                                                                                                                                                                                                                                                                                                                                                                                                                                                                                                                                                                                                                                                                                                                                                                      6\n",
       "Electronics Features,Drives, Storage & Blank Media,Hard Drive Pouches,Computers & Accessories,Computer Accessories & Peripherals,Hard Drive Accessories,Electronics,Computers Features,Personal Computer,Accessories,Hard Drive Bags Cases,Computers/Tablets & Networking,Drive Enclosures & Docks,Laptop & Desktop Accessories,Hard Drive Bags & Cases,Carrying Case Or Bag                                                                                                                                                                                                                                                                                                                                                                                                                                                                                                                                                                                                     6\n",
       "Electronics Features,Computers & Accessories,Computer Accessories & Peripherals,Keyboards,Electronics,Amazon Device Accessories,Digital Device Accessory,Keyboards, Mice & Accessories,Tablet Accessories,14701001                                                                                                                                                                                                                                                                                                                                                                                                                                                                                                                                                                                                                                                                                                                                                               6\n",
       "Electronics,TVs Entertainment,Featured Brands,Other TV, Video & Audio Accs,College Tvs & Home Theater,Streaming Media Players,Fire TV,TVs Entertainment xbqxrzdteyyb,Ways To Shop,Amazon SMP,Electronics Features,TVs & Home Theater,TV, Video & Home Audio,On To College,Media Streamers,TV & Home Theater,TV, Video & Audio Accessories,Digital Device 4,All Streaming Media Players,College Electronics,Video Devices & TV Tuners,Consumer Electronics,TV & Video,Streaming Devices,Back To College,Amazon Devices,Amazon,Holiday Shop                                                                                                                                                                                                                                                                                                                                                                                                                                        6\n",
       "Audio & Video Accessories,AmazonBasics,Car Audio & Video Installation,Electronics Features,Speaker Cables,Wired Headsets & Speakers,Audio Cables,Electronics,Speakers,Cable Or Adapter,Cables & Interconnects,Consumer Electronics,Cases & Covers,Power & Speaker Wire,Accessories & Supplies,Vehicle Electronics & GPS                                                                                                                                                                                                                                                                                                                                                                                                                                                                                                                                                                                                                                                          5\n",
       "Amazon SMP,Categories,Streaming Media Players,Electronics,Fire TV,Digital Device 4                                                                                                                                                                                                                                                                                                                                                                                                                                                                                                                                                                                                                                                                                                                                                                                                                                                                                               5\n",
       "Amazon Echo,Smart Speakers,Electronics,Digital Device 3,Home Audio & Home Theater,Consumer Electronics,Smart Home,Smart Speakers, Hubs & Accessories,Voice Assistants,Amazon Home,Surveillance & Smart Home Electronics,Amazon,Home Audio Speakers                                                                                                                                                                                                                                                                                                                                                                                                                                                                                                                                                                                                                                                                                                                               5\n",
       "Computers & Accessories,Electronics,Amazon Device Accessories,Digital Device Accessory,Abis Electronics,Tablet Accessories,Power Adapters                                                                                                                                                                                                                                                                                                                                                                                                                                                                                                                                                                                                                                                                                                                                                                                                                                        5\n",
       "Chargers & Adapters,Computers & Accessories,Fire Tablet Accessories,Electronics,Power Adapters & Cables,Amazon Tablet Accessory,Amazon Device Accessories,Digital Device Accessory,Tablet Accessories,Kindle Fire (2nd Generation) Accessories,Kindle Store,Power Adapters Cables,Amazon Devices,Chargers Adapters                                                                                                                                                                                                                                                                                                                                                                                                                                                                                                                                                                                                                                                               5\n",
       "Audio & Video Accessories,TV, Video & Home Audio,Home Audio & Video Accessories,DVD Cases,Electronics,Media Cases & Storage,TV, Video & Audio Accessories,Media Storage & Organization,Disc Storage Wallets,Consumer Electronics,CD, DVD & Blu-ray Discs,Blank Audio/Video Media,Accessories & Supplies,all electronics                                                                                                                                                                                                                                                                                                                                                                                                                                                                                                                                                                                                                                                          4\n",
       "Featured Brands,E-Readers & Accessories,EBook Readers,Tablets,Amazon Book Reader,Electronics,Computers & Tablets,Amazon Ereaders,Kindle E-readers,Amazon Devices,Tablets & E-Readers,E-Readers                                                                                                                                                                                                                                                                                                                                                                                                                                                                                                                                                                                                                                                                                                                                                                                   4\n",
       "Tablet & eBook Reader Accs,Consumer Electronics,Computers/Tablets & Networking,eBook Readers & Accessories,Electronics,Amazon Book Reader Accessory,Amazon Device Accessories,Other Multipurpose Batteries,Chargers & Sync Cables,Digital Device Accessory,Power Adapters                                                                                                                                                                                                                                                                                                                                                                                                                                                                                                                                                                                                                                                                                                        4\n",
       "Amazon SMP,Electronics Features,Kids & Family,TV, Video & Home Audio,Frys,Digital Device 4,Consumer Electronics,Kids Family,Video Games,Internet & Media Streamers,Streaming Media Players,Fire TV,Home Audio,Consoles                                                                                                                                                                                                                                                                                                                                                                                                                                                                                                                                                                                                                                                                                                                                                           3\n",
       "Crate Training,Crates Kennels,Pet Supplies,Dogs,City Sniffers,Custom Stores,Dog Supplies,Top Selection from AmazonPets,Pet Products,Cages & Crates,See more AmazonBasics Double Door Folding Metal Dog Cra...                                                                                                                                                                                                                                                                                                                                                                                                                                                                                                                                                                                                                                                                                                                                                                    2\n",
       "Stereos,Remote Controls,Audio Docks & Mini Speakers,Kitchen & Dining Features,Home & Tools,Electronics,New Networking,Wireless Speakers,Home, Garage & Office,Portable Speakers,iPod, Audio Player Accessories,Smart Home,Surveillance,Home Improvement,Smart Home & Home Automation Devices,Alarms & Sensors,Amazon Devices,Amazon,Holiday Shop,Kitchen Dining Features,Amazon Echo,Amazon Echo Accessories,Networking,Speaker Systems,TVs Entertainment,Clearance,Smart Hubs & Wireless Routers,Featured Brands,Smart Home & Connected Living,Home Security,Kindle Store,Home Automation,Home,Voice-Enabled Smart Assistants,Virtual Assistant Speakers,Portable Audio & Headphones,Electronics Features,Smart Home Automation,Amazon Device Accessories,Speakers,Smart Hub & Kits,Digital Device 3,Home & Furniture Clearance,Consumer Electronics,Smart Hubs,Home Safety & Security,Voice Assistants,Amazon Home,Virtual Assistant Speakers Displays,Audio                   2\n",
       "Standard Litter Boxes,Litter Boxes,Cat Supplies,Pet Supplies,Top Cat Supplies,Pet Products                                                                                                                                                                                                                                                                                                                                                                                                                                                                                                                                                                                                                                                                                                                                                                                                                                                                                       2\n",
       "Amazon Echo,Networking,Home & Tools,Smart Home Automation,Smart Speakers,Electronics,TVs Entertainment,New Networking,Smart Hub & Kits,Digital Device 3,Speakers & Audio Systems,Consumer Electronics,Wireless Speakers,See more Amazon Echo Spot Smart Assistant - Black,Smart Speakers, Hubs & Accessories,Home Improvement,Amazon Home,Surveillance & Smart Home Electronics,Virtual Assistant Speakers Displays,Home & Outdoors,Amazon,Bluetooth Speakers                                                                                                                                                                                                                                                                                                                                                                                                                                                                                                                    2\n",
       "Carriers & Totes,Hard-Sided Carriers,Crates Kennels,Pet Supplies: International Shipping Available,Cat Supplies,Pet Supplies,Carriers & Crates,Custom Stores,Dog Supplies,Pet Products,Top Selection from AmazonPets                                                                                                                                                                                                                                                                                                                                                                                                                                                                                                                                                                                                                                                                                                                                                             1\n",
       "Home & Garden,Kitchen Storage & Organization,Kitchen, Dining & Bar,Kitchen & Dining Features,Food Storage,Racks & Holders,Kitchen & Dining,Home Kitchen Features,Home & Kitchen Features,Home & Kitchen,Kitchen,Coffee Pod Holders,Kitchen Dining Features,Storage & Organization                                                                                                                                                                                                                                                                                                                                                                                                                                                                                                                                                                                                                                                                                                1\n",
       "Crate Training,Crates Kennels,Pet Supplies,Why Keep Them Waiting Prime Free Two-Day Shipping,Custom Stores,Dog Supplies,Pet Products,Top Selection from AmazonPets,Cages & Crates,Crates & Kennels                                                                                                                                                                                                                                                                                                                                                                                                                                                                                                                                                                                                                                                                                                                                                                               1\n",
       "Amazon Echo,Virtual Assistant Speakers,Electronics Features,Networking,Home & Tools,Smart Home Automation,Electronics,TVs Entertainment,Speakers,New Networking,Smart Hub & Kits,Digital Device 3,Speakers & Audio Systems,Wireless Speakers,Smart Home,Home Improvement,Voice Assistants,Amazon Home,Virtual Assistant Speakers Displays,Home & Outdoors,Amazon,Bluetooth Speakers                                                                                                                                                                                                                                                                                                                                                                                                                                                                                                                                                                                              1\n",
       "Home & Garden,Oven Mitts & Potholders,Kitchen, Dining & Bar,Cookware,Kitchen,Home & Kitchen,Cookware Accessories,Linens & Textiles,Kitchen & Dining                                                                                                                                                                                                                                                                                                                                                                                                                                                                                                                                                                                                                                                                                                                                                                                                                              1\n",
       "Consumer Electronics,Amazon Echo,Electronics Features,MP3 MP4 Player Accessories,Amazon Home,Voice-Enabled Smart Assistants,Digital Device 3                                                                                                                                                                                                                                                                                                                                                                                                                                                                                                                                                                                                                                                                                                                                                                                                                                     1\n",
       "Name: categories, dtype: int64"
      ]
     },
     "execution_count": 18,
     "metadata": {},
     "output_type": "execute_result"
    }
   ],
   "source": [
    "#Find number of reviews for each category\n",
    "df_clean['categories'].value_counts()"
   ]
  },
  {
   "cell_type": "code",
   "execution_count": 19,
   "metadata": {
    "ExecuteTime": {
     "end_time": "2020-02-05T06:34:42.421608Z",
     "start_time": "2020-02-05T06:34:42.414502Z"
    }
   },
   "outputs": [
    {
     "data": {
      "text/plain": [
       "AmazonBasics AAA Performance Alkaline Batteries (36 Count)                               8343\n",
       "AmazonBasics AA Performance Alkaline Batteries (48 Count) - Packaging May Vary           3728\n",
       "Fire HD 8 Tablet with Alexa, 8 HD Display, 16 GB, Tangerine - with Special Offers        2443\n",
       "All-New Fire HD 8 Tablet, 8 HD Display, Wi-Fi, 16 GB - Includes Special Offers, Black    2370\n",
       "Fire Kids Edition Tablet, 7 Display, Wi-Fi, 16 GB, Pink Kid-Proof Case                   1676\n",
       "                                                                                         ... \n",
       "AmazonBasics Nespresso Pod Storage Drawer - 50 Capsule Capacity                             1\n",
       "Two Door Top Load Pet Kennel Travel Crate Dog Cat Pet Cage Carrier Box Tray 23\"             1\n",
       "AmazonBasics Silicone Hot Handle Cover/Holder - Red                                         1\n",
       "Amazon Echo Show - Black                                                                    1\n",
       "AmazonBasics Single-Door Folding Metal Dog Crate - Large (42x28x30 Inches)                  1\n",
       "Name: name, Length: 65, dtype: int64"
      ]
     },
     "execution_count": 19,
     "metadata": {},
     "output_type": "execute_result"
    }
   ],
   "source": [
    "df_clean['name'].value_counts()"
   ]
  },
  {
   "cell_type": "code",
   "execution_count": 20,
   "metadata": {
    "ExecuteTime": {
     "end_time": "2020-02-05T06:34:42.430018Z",
     "start_time": "2020-02-05T06:34:42.423136Z"
    }
   },
   "outputs": [
    {
     "data": {
      "text/plain": [
       "Electronics                    13995\n",
       "Health & Beauty                12071\n",
       "Toys & Games,Electronics        1676\n",
       "Office Supplies,Electronics      386\n",
       "Electronics,Media                185\n",
       "Office Supplies                    9\n",
       "Animals & Pet Supplies             6\n",
       "Electronics,Furniture              2\n",
       "Home & Garden                      2\n",
       "Name: primaryCategories, dtype: int64"
      ]
     },
     "execution_count": 20,
     "metadata": {},
     "output_type": "execute_result"
    }
   ],
   "source": [
    "df_clean['primaryCategories'].value_counts()"
   ]
  },
  {
   "cell_type": "code",
   "execution_count": 21,
   "metadata": {
    "ExecuteTime": {
     "end_time": "2020-02-05T06:34:42.600794Z",
     "start_time": "2020-02-05T06:34:42.431255Z"
    }
   },
   "outputs": [
    {
     "data": {
      "image/png": "[encoded data removed]",
      "text/plain": [
       "<Figure size 432x288 with 1 Axes>"
      ]
     },
     "metadata": {
      "needs_background": "light"
     },
     "output_type": "display_data"
    }
   ],
   "source": [
    "sns.countplot(y = df_clean['primaryCategories'], order = df_clean['primaryCategories'].value_counts().iloc[:5].index)\n",
    "plt.show()"
   ]
  },
  {
   "cell_type": "markdown",
   "metadata": {},
   "source": [
    "<font color= 'blue' size = 4 > __Inference__ </font>\n",
    "\n",
    "- Majority of the reviews are for Electronics and Health & Beauty"
   ]
  },
  {
   "cell_type": "markdown",
   "metadata": {},
   "source": [
    "<font color= 'blue' size = 4 > Clean and Pre-Process for NLP </font>\n",
    "\n",
    "- __coverting to lower case__\n",
    "\n",
    "- __removing all the the stop words__\n",
    "\n",
    "- __removing periods and commas__"
   ]
  },
  {
   "cell_type": "code",
   "execution_count": 22,
   "metadata": {
    "ExecuteTime": {
     "end_time": "2020-02-05T06:34:42.779666Z",
     "start_time": "2020-02-05T06:34:42.602164Z"
    }
   },
   "outputs": [
    {
     "name": "stderr",
     "output_type": "stream",
     "text": [
      "/Users/nitinmahajan/opt/anaconda3/lib/python3.7/site-packages/ipykernel_launcher.py:3: SettingWithCopyWarning: \n",
      "A value is trying to be set on a copy of a slice from a DataFrame.\n",
      "Try using .loc[row_indexer,col_indexer] = value instead\n",
      "\n",
      "See the caveats in the documentation: http://pandas.pydata.org/pandas-docs/stable/user_guide/indexing.html#returning-a-view-versus-a-copy\n",
      "  This is separate from the ipykernel package so we can avoid doing imports until\n",
      "/Users/nitinmahajan/opt/anaconda3/lib/python3.7/site-packages/ipykernel_launcher.py:7: SettingWithCopyWarning: \n",
      "A value is trying to be set on a copy of a slice from a DataFrame.\n",
      "Try using .loc[row_indexer,col_indexer] = value instead\n",
      "\n",
      "See the caveats in the documentation: http://pandas.pydata.org/pandas-docs/stable/user_guide/indexing.html#returning-a-view-versus-a-copy\n",
      "  import sys\n",
      "/Users/nitinmahajan/opt/anaconda3/lib/python3.7/site-packages/ipykernel_launcher.py:11: SettingWithCopyWarning: \n",
      "A value is trying to be set on a copy of a slice from a DataFrame.\n",
      "Try using .loc[row_indexer,col_indexer] = value instead\n",
      "\n",
      "See the caveats in the documentation: http://pandas.pydata.org/pandas-docs/stable/user_guide/indexing.html#returning-a-view-versus-a-copy\n",
      "  # This is added back by InteractiveShellApp.init_path()\n",
      "/Users/nitinmahajan/opt/anaconda3/lib/python3.7/site-packages/ipykernel_launcher.py:12: SettingWithCopyWarning: \n",
      "A value is trying to be set on a copy of a slice from a DataFrame.\n",
      "Try using .loc[row_indexer,col_indexer] = value instead\n",
      "\n",
      "See the caveats in the documentation: http://pandas.pydata.org/pandas-docs/stable/user_guide/indexing.html#returning-a-view-versus-a-copy\n",
      "  if sys.path[0] == '':\n"
     ]
    }
   ],
   "source": [
    "#Start by converting the text to all lowercase letters\n",
    "\n",
    "df_clean['reviews.text'] = df_clean['reviews.text'].str.lower()\n",
    "\n",
    "#Now get rid of any numbers\n",
    "\n",
    "df_clean['reviews.text'] = df_clean['reviews.text'].str.replace('\\d+', '')\n",
    "\n",
    "#Get rid of periods and commas\n",
    "\n",
    "df_clean['reviews.text'] = df_clean['reviews.text'].str.replace('.', '')\n",
    "df_clean['reviews.text'] = df_clean['reviews.text'].str.replace(',', '')"
   ]
  },
  {
   "cell_type": "markdown",
   "metadata": {},
   "source": [
    "<font color= 'blue' size = 4 > Tokenization: </font> is a way to split text into tokens. These token could be paragraphs, sentences, or individual words.\n",
    "\n",
    "The NLTK provides a number of tokenizers and the text is first tokenized into sentences using the PunktSentenceTokenizer."
   ]
  },
  {
   "cell_type": "code",
   "execution_count": 23,
   "metadata": {
    "ExecuteTime": {
     "end_time": "2020-02-05T06:34:43.050182Z",
     "start_time": "2020-02-05T06:34:42.784185Z"
    }
   },
   "outputs": [
    {
     "name": "stderr",
     "output_type": "stream",
     "text": [
      "[nltk_data] Downloading package punkt to\n",
      "[nltk_data]     /Users/nitinmahajan/nltk_data...\n",
      "[nltk_data]   Package punkt is already up-to-date!\n"
     ]
    },
    {
     "data": {
      "text/plain": [
       "True"
      ]
     },
     "execution_count": 23,
     "metadata": {},
     "output_type": "execute_result"
    }
   ],
   "source": [
    "import nltk\n",
    "nltk.download('punkt')"
   ]
  },
  {
   "cell_type": "markdown",
   "metadata": {},
   "source": [
    "__<font color= 'blue' size = 4 > Tokenize Sentences </font>__\n",
    "\n",
    "A paragraph can be split into sentencs using the method sent_tokenize()"
   ]
  },
  {
   "cell_type": "code",
   "execution_count": 24,
   "metadata": {
    "ExecuteTime": {
     "end_time": "2020-02-05T06:34:44.052705Z",
     "start_time": "2020-02-05T06:34:43.052658Z"
    }
   },
   "outputs": [
    {
     "name": "stderr",
     "output_type": "stream",
     "text": [
      "/Users/nitinmahajan/opt/anaconda3/lib/python3.7/site-packages/ipykernel_launcher.py:3: SettingWithCopyWarning: \n",
      "A value is trying to be set on a copy of a slice from a DataFrame.\n",
      "Try using .loc[row_indexer,col_indexer] = value instead\n",
      "\n",
      "See the caveats in the documentation: http://pandas.pydata.org/pandas-docs/stable/user_guide/indexing.html#returning-a-view-versus-a-copy\n",
      "  This is separate from the ipykernel package so we can avoid doing imports until\n"
     ]
    }
   ],
   "source": [
    "from nltk.tokenize import sent_tokenize\n",
    "\n",
    "df_clean['tokenized_sentence_text'] = df_clean['reviews.text'].apply(sent_tokenize)"
   ]
  },
  {
   "cell_type": "code",
   "execution_count": 25,
   "metadata": {
    "ExecuteTime": {
     "end_time": "2020-02-05T06:34:44.059353Z",
     "start_time": "2020-02-05T06:34:44.054162Z"
    }
   },
   "outputs": [
    {
     "name": "stdout",
     "output_type": "stream",
     "text": [
      "0        [i order  of them and one of the item is bad q...\n",
      "1        [bulk is always the less expensive way to go f...\n",
      "2        [well they are not duracell but for the price ...\n",
      "3        [seem to work as well as name brand batteries ...\n",
      "4        [these batteries are very long lasting the pri...\n",
      "                               ...                        \n",
      "28327    [i got  of these for my  yr old twins my  yr o...\n",
      "28328    [i bought this for my niece for a christmas gi...\n",
      "28329    [very nice for light internet browsing keeping...\n",
      "28330    [this tablet does absolutely everything i want...\n",
      "28331    [at ninety dollars the expectionations are low...\n",
      "Name: tokenized_sentence_text, Length: 28332, dtype: object\n"
     ]
    }
   ],
   "source": [
    "print(df_clean['tokenized_sentence_text'])"
   ]
  },
  {
   "cell_type": "markdown",
   "metadata": {},
   "source": [
    "__<font color= 'blue' size = 4 > Tokenize words </font>__\n",
    "\n",
    "A sentence or data can be split into words using the method word_tokenize()"
   ]
  },
  {
   "cell_type": "code",
   "execution_count": 26,
   "metadata": {
    "ExecuteTime": {
     "end_time": "2020-02-05T06:34:48.050987Z",
     "start_time": "2020-02-05T06:34:44.061110Z"
    }
   },
   "outputs": [
    {
     "name": "stderr",
     "output_type": "stream",
     "text": [
      "/Users/nitinmahajan/opt/anaconda3/lib/python3.7/site-packages/ipykernel_launcher.py:3: SettingWithCopyWarning: \n",
      "A value is trying to be set on a copy of a slice from a DataFrame.\n",
      "Try using .loc[row_indexer,col_indexer] = value instead\n",
      "\n",
      "See the caveats in the documentation: http://pandas.pydata.org/pandas-docs/stable/user_guide/indexing.html#returning-a-view-versus-a-copy\n",
      "  This is separate from the ipykernel package so we can avoid doing imports until\n"
     ]
    }
   ],
   "source": [
    "from nltk.tokenize import word_tokenize\n",
    "\n",
    "df_clean['tokenized_word_text'] = df_clean['reviews.text'].apply(word_tokenize)"
   ]
  },
  {
   "cell_type": "code",
   "execution_count": 27,
   "metadata": {
    "ExecuteTime": {
     "end_time": "2020-02-05T06:34:48.059210Z",
     "start_time": "2020-02-05T06:34:48.052255Z"
    }
   },
   "outputs": [
    {
     "name": "stdout",
     "output_type": "stream",
     "text": [
      "0        [i, order, of, them, and, one, of, the, item, ...\n",
      "1        [bulk, is, always, the, less, expensive, way, ...\n",
      "2        [well, they, are, not, duracell, but, for, the...\n",
      "3        [seem, to, work, as, well, as, name, brand, ba...\n",
      "4        [these, batteries, are, very, long, lasting, t...\n",
      "                               ...                        \n",
      "28327    [i, got, of, these, for, my, yr, old, twins, m...\n",
      "28328    [i, bought, this, for, my, niece, for, a, chri...\n",
      "28329    [very, nice, for, light, internet, browsing, k...\n",
      "28330    [this, tablet, does, absolutely, everything, i...\n",
      "28331    [at, ninety, dollars, the, expectionations, ar...\n",
      "Name: tokenized_word_text, Length: 28332, dtype: object\n"
     ]
    }
   ],
   "source": [
    "print(df_clean['tokenized_word_text'])"
   ]
  },
  {
   "cell_type": "code",
   "execution_count": 28,
   "metadata": {
    "ExecuteTime": {
     "end_time": "2020-02-05T06:34:48.077836Z",
     "start_time": "2020-02-05T06:34:48.060848Z"
    }
   },
   "outputs": [
    {
     "data": {
      "text/html": [
       "<div>\n",
       "<style scoped>\n",
       "    .dataframe tbody tr th:only-of-type {\n",
       "        vertical-align: middle;\n",
       "    }\n",
       "\n",
       "    .dataframe tbody tr th {\n",
       "        vertical-align: top;\n",
       "    }\n",
       "\n",
       "    .dataframe thead th {\n",
       "        text-align: right;\n",
       "    }\n",
       "</style>\n",
       "<table border=\"1\" class=\"dataframe\">\n",
       "  <thead>\n",
       "    <tr style=\"text-align: right;\">\n",
       "      <th></th>\n",
       "      <th>id</th>\n",
       "      <th>dateAdded</th>\n",
       "      <th>dateUpdated</th>\n",
       "      <th>name</th>\n",
       "      <th>brand</th>\n",
       "      <th>categories</th>\n",
       "      <th>primaryCategories</th>\n",
       "      <th>reviews.rating</th>\n",
       "      <th>reviews.text</th>\n",
       "      <th>reviews.title</th>\n",
       "      <th>reviews.username</th>\n",
       "      <th>text_word_count</th>\n",
       "      <th>title_word_count</th>\n",
       "      <th>tokenized_sentence_text</th>\n",
       "      <th>tokenized_word_text</th>\n",
       "    </tr>\n",
       "  </thead>\n",
       "  <tbody>\n",
       "    <tr>\n",
       "      <td>0</td>\n",
       "      <td>AVpgNzjwLJeJML43Kpxn</td>\n",
       "      <td>2015-10-30T08:59:32Z</td>\n",
       "      <td>2019-04-25T09:08:16Z</td>\n",
       "      <td>AmazonBasics AAA Performance Alkaline Batterie...</td>\n",
       "      <td>Amazonbasics</td>\n",
       "      <td>AA,AAA,Health,Electronics,Health &amp; Household,C...</td>\n",
       "      <td>Health &amp; Beauty</td>\n",
       "      <td>3</td>\n",
       "      <td>i order  of them and one of the item is bad qu...</td>\n",
       "      <td>... 3 of them and one of the item is bad quali...</td>\n",
       "      <td>Byger yang</td>\n",
       "      <td>31</td>\n",
       "      <td>20</td>\n",
       "      <td>[i order  of them and one of the item is bad q...</td>\n",
       "      <td>[i, order, of, them, and, one, of, the, item, ...</td>\n",
       "    </tr>\n",
       "    <tr>\n",
       "      <td>1</td>\n",
       "      <td>AVpgNzjwLJeJML43Kpxn</td>\n",
       "      <td>2015-10-30T08:59:32Z</td>\n",
       "      <td>2019-04-25T09:08:16Z</td>\n",
       "      <td>AmazonBasics AAA Performance Alkaline Batterie...</td>\n",
       "      <td>Amazonbasics</td>\n",
       "      <td>AA,AAA,Health,Electronics,Health &amp; Household,C...</td>\n",
       "      <td>Health &amp; Beauty</td>\n",
       "      <td>4</td>\n",
       "      <td>bulk is always the less expensive way to go fo...</td>\n",
       "      <td>... always the less expensive way to go for pr...</td>\n",
       "      <td>ByMG</td>\n",
       "      <td>13</td>\n",
       "      <td>11</td>\n",
       "      <td>[bulk is always the less expensive way to go f...</td>\n",
       "      <td>[bulk, is, always, the, less, expensive, way, ...</td>\n",
       "    </tr>\n",
       "    <tr>\n",
       "      <td>2</td>\n",
       "      <td>AVpgNzjwLJeJML43Kpxn</td>\n",
       "      <td>2015-10-30T08:59:32Z</td>\n",
       "      <td>2019-04-25T09:08:16Z</td>\n",
       "      <td>AmazonBasics AAA Performance Alkaline Batterie...</td>\n",
       "      <td>Amazonbasics</td>\n",
       "      <td>AA,AAA,Health,Electronics,Health &amp; Household,C...</td>\n",
       "      <td>Health &amp; Beauty</td>\n",
       "      <td>5</td>\n",
       "      <td>well they are not duracell but for the price i...</td>\n",
       "      <td>... are not Duracell but for the price i am ha...</td>\n",
       "      <td>BySharon Lambert</td>\n",
       "      <td>12</td>\n",
       "      <td>11</td>\n",
       "      <td>[well they are not duracell but for the price ...</td>\n",
       "      <td>[well, they, are, not, duracell, but, for, the...</td>\n",
       "    </tr>\n",
       "    <tr>\n",
       "      <td>3</td>\n",
       "      <td>AVpgNzjwLJeJML43Kpxn</td>\n",
       "      <td>2015-10-30T08:59:32Z</td>\n",
       "      <td>2019-04-25T09:08:16Z</td>\n",
       "      <td>AmazonBasics AAA Performance Alkaline Batterie...</td>\n",
       "      <td>Amazonbasics</td>\n",
       "      <td>AA,AAA,Health,Electronics,Health &amp; Household,C...</td>\n",
       "      <td>Health &amp; Beauty</td>\n",
       "      <td>5</td>\n",
       "      <td>seem to work as well as name brand batteries a...</td>\n",
       "      <td>... as well as name brand batteries at a much ...</td>\n",
       "      <td>Bymark sexson</td>\n",
       "      <td>14</td>\n",
       "      <td>11</td>\n",
       "      <td>[seem to work as well as name brand batteries ...</td>\n",
       "      <td>[seem, to, work, as, well, as, name, brand, ba...</td>\n",
       "    </tr>\n",
       "    <tr>\n",
       "      <td>4</td>\n",
       "      <td>AVpgNzjwLJeJML43Kpxn</td>\n",
       "      <td>2015-10-30T08:59:32Z</td>\n",
       "      <td>2019-04-25T09:08:16Z</td>\n",
       "      <td>AmazonBasics AAA Performance Alkaline Batterie...</td>\n",
       "      <td>Amazonbasics</td>\n",
       "      <td>AA,AAA,Health,Electronics,Health &amp; Household,C...</td>\n",
       "      <td>Health &amp; Beauty</td>\n",
       "      <td>5</td>\n",
       "      <td>these batteries are very long lasting the pric...</td>\n",
       "      <td>... batteries are very long lasting the price ...</td>\n",
       "      <td>Bylinda</td>\n",
       "      <td>10</td>\n",
       "      <td>10</td>\n",
       "      <td>[these batteries are very long lasting the pri...</td>\n",
       "      <td>[these, batteries, are, very, long, lasting, t...</td>\n",
       "    </tr>\n",
       "  </tbody>\n",
       "</table>\n",
       "</div>"
      ],
      "text/plain": [
       "                     id             dateAdded           dateUpdated  \\\n",
       "0  AVpgNzjwLJeJML43Kpxn  2015-10-30T08:59:32Z  2019-04-25T09:08:16Z   \n",
       "1  AVpgNzjwLJeJML43Kpxn  2015-10-30T08:59:32Z  2019-04-25T09:08:16Z   \n",
       "2  AVpgNzjwLJeJML43Kpxn  2015-10-30T08:59:32Z  2019-04-25T09:08:16Z   \n",
       "3  AVpgNzjwLJeJML43Kpxn  2015-10-30T08:59:32Z  2019-04-25T09:08:16Z   \n",
       "4  AVpgNzjwLJeJML43Kpxn  2015-10-30T08:59:32Z  2019-04-25T09:08:16Z   \n",
       "\n",
       "                                                name         brand  \\\n",
       "0  AmazonBasics AAA Performance Alkaline Batterie...  Amazonbasics   \n",
       "1  AmazonBasics AAA Performance Alkaline Batterie...  Amazonbasics   \n",
       "2  AmazonBasics AAA Performance Alkaline Batterie...  Amazonbasics   \n",
       "3  AmazonBasics AAA Performance Alkaline Batterie...  Amazonbasics   \n",
       "4  AmazonBasics AAA Performance Alkaline Batterie...  Amazonbasics   \n",
       "\n",
       "                                          categories primaryCategories  \\\n",
       "0  AA,AAA,Health,Electronics,Health & Household,C...   Health & Beauty   \n",
       "1  AA,AAA,Health,Electronics,Health & Household,C...   Health & Beauty   \n",
       "2  AA,AAA,Health,Electronics,Health & Household,C...   Health & Beauty   \n",
       "3  AA,AAA,Health,Electronics,Health & Household,C...   Health & Beauty   \n",
       "4  AA,AAA,Health,Electronics,Health & Household,C...   Health & Beauty   \n",
       "\n",
       "   reviews.rating                                       reviews.text  \\\n",
       "0               3  i order  of them and one of the item is bad qu...   \n",
       "1               4  bulk is always the less expensive way to go fo...   \n",
       "2               5  well they are not duracell but for the price i...   \n",
       "3               5  seem to work as well as name brand batteries a...   \n",
       "4               5  these batteries are very long lasting the pric...   \n",
       "\n",
       "                                       reviews.title  reviews.username  \\\n",
       "0  ... 3 of them and one of the item is bad quali...        Byger yang   \n",
       "1  ... always the less expensive way to go for pr...              ByMG   \n",
       "2  ... are not Duracell but for the price i am ha...  BySharon Lambert   \n",
       "3  ... as well as name brand batteries at a much ...     Bymark sexson   \n",
       "4  ... batteries are very long lasting the price ...           Bylinda   \n",
       "\n",
       "   text_word_count  title_word_count  \\\n",
       "0               31                20   \n",
       "1               13                11   \n",
       "2               12                11   \n",
       "3               14                11   \n",
       "4               10                10   \n",
       "\n",
       "                             tokenized_sentence_text  \\\n",
       "0  [i order  of them and one of the item is bad q...   \n",
       "1  [bulk is always the less expensive way to go f...   \n",
       "2  [well they are not duracell but for the price ...   \n",
       "3  [seem to work as well as name brand batteries ...   \n",
       "4  [these batteries are very long lasting the pri...   \n",
       "\n",
       "                                 tokenized_word_text  \n",
       "0  [i, order, of, them, and, one, of, the, item, ...  \n",
       "1  [bulk, is, always, the, less, expensive, way, ...  \n",
       "2  [well, they, are, not, duracell, but, for, the...  \n",
       "3  [seem, to, work, as, well, as, name, brand, ba...  \n",
       "4  [these, batteries, are, very, long, lasting, t...  "
      ]
     },
     "execution_count": 28,
     "metadata": {},
     "output_type": "execute_result"
    }
   ],
   "source": [
    "df_clean.head()"
   ]
  },
  {
   "cell_type": "markdown",
   "metadata": {},
   "source": [
    "__<font color= 'blue' size = 4 > Remove Stop Words </font>__"
   ]
  },
  {
   "cell_type": "code",
   "execution_count": 29,
   "metadata": {
    "ExecuteTime": {
     "end_time": "2020-02-05T06:34:48.084672Z",
     "start_time": "2020-02-05T06:34:48.079265Z"
    }
   },
   "outputs": [
    {
     "name": "stderr",
     "output_type": "stream",
     "text": [
      "[nltk_data] Downloading package stopwords to\n",
      "[nltk_data]     /Users/nitinmahajan/nltk_data...\n",
      "[nltk_data]   Package stopwords is already up-to-date!\n"
     ]
    },
    {
     "data": {
      "text/plain": [
       "True"
      ]
     },
     "execution_count": 29,
     "metadata": {},
     "output_type": "execute_result"
    }
   ],
   "source": [
    "#Remove Stop words\n",
    "\n",
    "nltk.download('stopwords')"
   ]
  },
  {
   "cell_type": "code",
   "execution_count": 30,
   "metadata": {
    "ExecuteTime": {
     "end_time": "2020-02-05T06:34:48.090162Z",
     "start_time": "2020-02-05T06:34:48.086249Z"
    }
   },
   "outputs": [],
   "source": [
    "from nltk.corpus import stopwords\n",
    "#set stop words\n",
    "stop_words = set(stopwords.words('english'))"
   ]
  },
  {
   "cell_type": "code",
   "execution_count": 31,
   "metadata": {
    "ExecuteTime": {
     "end_time": "2020-02-05T06:34:48.095931Z",
     "start_time": "2020-02-05T06:34:48.091694Z"
    }
   },
   "outputs": [
    {
     "name": "stderr",
     "output_type": "stream",
     "text": [
      "/Users/nitinmahajan/opt/anaconda3/lib/python3.7/site-packages/ipykernel_launcher.py:1: SettingWithCopyWarning: \n",
      "A value is trying to be set on a copy of a slice from a DataFrame.\n",
      "Try using .loc[row_indexer,col_indexer] = value instead\n",
      "\n",
      "See the caveats in the documentation: http://pandas.pydata.org/pandas-docs/stable/user_guide/indexing.html#returning-a-view-versus-a-copy\n",
      "  \"\"\"Entry point for launching an IPython kernel.\n"
     ]
    }
   ],
   "source": [
    "df_clean['nostop'] = df_clean['tokenized_word_text']"
   ]
  },
  {
   "cell_type": "code",
   "execution_count": 32,
   "metadata": {
    "ExecuteTime": {
     "end_time": "2020-02-05T06:34:48.104121Z",
     "start_time": "2020-02-05T06:34:48.097286Z"
    }
   },
   "outputs": [
    {
     "data": {
      "text/plain": [
       "0        [i, order, of, them, and, one, of, the, item, ...\n",
       "1        [bulk, is, always, the, less, expensive, way, ...\n",
       "2        [well, they, are, not, duracell, but, for, the...\n",
       "3        [seem, to, work, as, well, as, name, brand, ba...\n",
       "4        [these, batteries, are, very, long, lasting, t...\n",
       "                               ...                        \n",
       "28327    [i, got, of, these, for, my, yr, old, twins, m...\n",
       "28328    [i, bought, this, for, my, niece, for, a, chri...\n",
       "28329    [very, nice, for, light, internet, browsing, k...\n",
       "28330    [this, tablet, does, absolutely, everything, i...\n",
       "28331    [at, ninety, dollars, the, expectionations, ar...\n",
       "Name: nostop, Length: 28332, dtype: object"
      ]
     },
     "execution_count": 32,
     "metadata": {},
     "output_type": "execute_result"
    }
   ],
   "source": [
    "df_clean['nostop']"
   ]
  },
  {
   "cell_type": "code",
   "execution_count": 33,
   "metadata": {
    "ExecuteTime": {
     "end_time": "2020-02-05T06:34:48.248640Z",
     "start_time": "2020-02-05T06:34:48.105585Z"
    }
   },
   "outputs": [
    {
     "name": "stderr",
     "output_type": "stream",
     "text": [
      "/Users/nitinmahajan/opt/anaconda3/lib/python3.7/site-packages/ipykernel_launcher.py:1: SettingWithCopyWarning: \n",
      "A value is trying to be set on a copy of a slice from a DataFrame.\n",
      "Try using .loc[row_indexer,col_indexer] = value instead\n",
      "\n",
      "See the caveats in the documentation: http://pandas.pydata.org/pandas-docs/stable/user_guide/indexing.html#returning-a-view-versus-a-copy\n",
      "  \"\"\"Entry point for launching an IPython kernel.\n"
     ]
    }
   ],
   "source": [
    "df_clean['nostop'] = df_clean['reviews.text'].apply(lambda x: ' '.join([word for word in x.split() if word not in (stop_words)]))"
   ]
  },
  {
   "cell_type": "code",
   "execution_count": 34,
   "metadata": {
    "ExecuteTime": {
     "end_time": "2020-02-05T06:34:51.549258Z",
     "start_time": "2020-02-05T06:34:48.250006Z"
    }
   },
   "outputs": [
    {
     "name": "stderr",
     "output_type": "stream",
     "text": [
      "/Users/nitinmahajan/opt/anaconda3/lib/python3.7/site-packages/ipykernel_launcher.py:1: SettingWithCopyWarning: \n",
      "A value is trying to be set on a copy of a slice from a DataFrame.\n",
      "Try using .loc[row_indexer,col_indexer] = value instead\n",
      "\n",
      "See the caveats in the documentation: http://pandas.pydata.org/pandas-docs/stable/user_guide/indexing.html#returning-a-view-versus-a-copy\n",
      "  \"\"\"Entry point for launching an IPython kernel.\n"
     ]
    }
   ],
   "source": [
    "df_clean['tokenized_word_no_stop'] = df_clean['nostop'].apply(word_tokenize)"
   ]
  },
  {
   "cell_type": "code",
   "execution_count": 35,
   "metadata": {
    "ExecuteTime": {
     "end_time": "2020-02-05T06:34:51.557134Z",
     "start_time": "2020-02-05T06:34:51.550574Z"
    }
   },
   "outputs": [
    {
     "data": {
      "text/plain": [
       "0        [order, one, item, bad, quality, missing, back...\n",
       "1        [bulk, always, less, expensive, way, go, produ...\n",
       "2                           [well, duracell, price, happy]\n",
       "3        [seem, work, well, name, brand, batteries, muc...\n",
       "4                 [batteries, long, lasting, price, great]\n",
       "                               ...                        \n",
       "28327    [got, yr, old, twins, yr, old, one, one, bette...\n",
       "28328    [bought, niece, christmas, giftshe, years, old...\n",
       "28329    [nice, light, internet, browsing, keeping, top...\n",
       "28330    [tablet, absolutely, everything, want, !, watc...\n",
       "28331    [ninety, dollars, expectionations, low, still,...\n",
       "Name: tokenized_word_no_stop, Length: 28332, dtype: object"
      ]
     },
     "execution_count": 35,
     "metadata": {},
     "output_type": "execute_result"
    }
   ],
   "source": [
    "df_clean['tokenized_word_no_stop']"
   ]
  },
  {
   "cell_type": "code",
   "execution_count": 36,
   "metadata": {
    "ExecuteTime": {
     "end_time": "2020-02-05T06:34:51.578102Z",
     "start_time": "2020-02-05T06:34:51.558732Z"
    }
   },
   "outputs": [
    {
     "data": {
      "text/html": [
       "<div>\n",
       "<style scoped>\n",
       "    .dataframe tbody tr th:only-of-type {\n",
       "        vertical-align: middle;\n",
       "    }\n",
       "\n",
       "    .dataframe tbody tr th {\n",
       "        vertical-align: top;\n",
       "    }\n",
       "\n",
       "    .dataframe thead th {\n",
       "        text-align: right;\n",
       "    }\n",
       "</style>\n",
       "<table border=\"1\" class=\"dataframe\">\n",
       "  <thead>\n",
       "    <tr style=\"text-align: right;\">\n",
       "      <th></th>\n",
       "      <th>id</th>\n",
       "      <th>dateAdded</th>\n",
       "      <th>dateUpdated</th>\n",
       "      <th>name</th>\n",
       "      <th>brand</th>\n",
       "      <th>categories</th>\n",
       "      <th>primaryCategories</th>\n",
       "      <th>reviews.rating</th>\n",
       "      <th>reviews.text</th>\n",
       "      <th>reviews.title</th>\n",
       "      <th>reviews.username</th>\n",
       "      <th>text_word_count</th>\n",
       "      <th>title_word_count</th>\n",
       "      <th>tokenized_sentence_text</th>\n",
       "      <th>tokenized_word_text</th>\n",
       "      <th>nostop</th>\n",
       "      <th>tokenized_word_no_stop</th>\n",
       "    </tr>\n",
       "  </thead>\n",
       "  <tbody>\n",
       "    <tr>\n",
       "      <td>0</td>\n",
       "      <td>AVpgNzjwLJeJML43Kpxn</td>\n",
       "      <td>2015-10-30T08:59:32Z</td>\n",
       "      <td>2019-04-25T09:08:16Z</td>\n",
       "      <td>AmazonBasics AAA Performance Alkaline Batterie...</td>\n",
       "      <td>Amazonbasics</td>\n",
       "      <td>AA,AAA,Health,Electronics,Health &amp; Household,C...</td>\n",
       "      <td>Health &amp; Beauty</td>\n",
       "      <td>3</td>\n",
       "      <td>i order  of them and one of the item is bad qu...</td>\n",
       "      <td>... 3 of them and one of the item is bad quali...</td>\n",
       "      <td>Byger yang</td>\n",
       "      <td>31</td>\n",
       "      <td>20</td>\n",
       "      <td>[i order  of them and one of the item is bad q...</td>\n",
       "      <td>[i, order, of, them, and, one, of, the, item, ...</td>\n",
       "      <td>order one item bad quality missing backup spri...</td>\n",
       "      <td>[order, one, item, bad, quality, missing, back...</td>\n",
       "    </tr>\n",
       "    <tr>\n",
       "      <td>1</td>\n",
       "      <td>AVpgNzjwLJeJML43Kpxn</td>\n",
       "      <td>2015-10-30T08:59:32Z</td>\n",
       "      <td>2019-04-25T09:08:16Z</td>\n",
       "      <td>AmazonBasics AAA Performance Alkaline Batterie...</td>\n",
       "      <td>Amazonbasics</td>\n",
       "      <td>AA,AAA,Health,Electronics,Health &amp; Household,C...</td>\n",
       "      <td>Health &amp; Beauty</td>\n",
       "      <td>4</td>\n",
       "      <td>bulk is always the less expensive way to go fo...</td>\n",
       "      <td>... always the less expensive way to go for pr...</td>\n",
       "      <td>ByMG</td>\n",
       "      <td>13</td>\n",
       "      <td>11</td>\n",
       "      <td>[bulk is always the less expensive way to go f...</td>\n",
       "      <td>[bulk, is, always, the, less, expensive, way, ...</td>\n",
       "      <td>bulk always less expensive way go products like</td>\n",
       "      <td>[bulk, always, less, expensive, way, go, produ...</td>\n",
       "    </tr>\n",
       "    <tr>\n",
       "      <td>2</td>\n",
       "      <td>AVpgNzjwLJeJML43Kpxn</td>\n",
       "      <td>2015-10-30T08:59:32Z</td>\n",
       "      <td>2019-04-25T09:08:16Z</td>\n",
       "      <td>AmazonBasics AAA Performance Alkaline Batterie...</td>\n",
       "      <td>Amazonbasics</td>\n",
       "      <td>AA,AAA,Health,Electronics,Health &amp; Household,C...</td>\n",
       "      <td>Health &amp; Beauty</td>\n",
       "      <td>5</td>\n",
       "      <td>well they are not duracell but for the price i...</td>\n",
       "      <td>... are not Duracell but for the price i am ha...</td>\n",
       "      <td>BySharon Lambert</td>\n",
       "      <td>12</td>\n",
       "      <td>11</td>\n",
       "      <td>[well they are not duracell but for the price ...</td>\n",
       "      <td>[well, they, are, not, duracell, but, for, the...</td>\n",
       "      <td>well duracell price happy</td>\n",
       "      <td>[well, duracell, price, happy]</td>\n",
       "    </tr>\n",
       "    <tr>\n",
       "      <td>3</td>\n",
       "      <td>AVpgNzjwLJeJML43Kpxn</td>\n",
       "      <td>2015-10-30T08:59:32Z</td>\n",
       "      <td>2019-04-25T09:08:16Z</td>\n",
       "      <td>AmazonBasics AAA Performance Alkaline Batterie...</td>\n",
       "      <td>Amazonbasics</td>\n",
       "      <td>AA,AAA,Health,Electronics,Health &amp; Household,C...</td>\n",
       "      <td>Health &amp; Beauty</td>\n",
       "      <td>5</td>\n",
       "      <td>seem to work as well as name brand batteries a...</td>\n",
       "      <td>... as well as name brand batteries at a much ...</td>\n",
       "      <td>Bymark sexson</td>\n",
       "      <td>14</td>\n",
       "      <td>11</td>\n",
       "      <td>[seem to work as well as name brand batteries ...</td>\n",
       "      <td>[seem, to, work, as, well, as, name, brand, ba...</td>\n",
       "      <td>seem work well name brand batteries much bette...</td>\n",
       "      <td>[seem, work, well, name, brand, batteries, muc...</td>\n",
       "    </tr>\n",
       "    <tr>\n",
       "      <td>4</td>\n",
       "      <td>AVpgNzjwLJeJML43Kpxn</td>\n",
       "      <td>2015-10-30T08:59:32Z</td>\n",
       "      <td>2019-04-25T09:08:16Z</td>\n",
       "      <td>AmazonBasics AAA Performance Alkaline Batterie...</td>\n",
       "      <td>Amazonbasics</td>\n",
       "      <td>AA,AAA,Health,Electronics,Health &amp; Household,C...</td>\n",
       "      <td>Health &amp; Beauty</td>\n",
       "      <td>5</td>\n",
       "      <td>these batteries are very long lasting the pric...</td>\n",
       "      <td>... batteries are very long lasting the price ...</td>\n",
       "      <td>Bylinda</td>\n",
       "      <td>10</td>\n",
       "      <td>10</td>\n",
       "      <td>[these batteries are very long lasting the pri...</td>\n",
       "      <td>[these, batteries, are, very, long, lasting, t...</td>\n",
       "      <td>batteries long lasting price great</td>\n",
       "      <td>[batteries, long, lasting, price, great]</td>\n",
       "    </tr>\n",
       "  </tbody>\n",
       "</table>\n",
       "</div>"
      ],
      "text/plain": [
       "                     id             dateAdded           dateUpdated  \\\n",
       "0  AVpgNzjwLJeJML43Kpxn  2015-10-30T08:59:32Z  2019-04-25T09:08:16Z   \n",
       "1  AVpgNzjwLJeJML43Kpxn  2015-10-30T08:59:32Z  2019-04-25T09:08:16Z   \n",
       "2  AVpgNzjwLJeJML43Kpxn  2015-10-30T08:59:32Z  2019-04-25T09:08:16Z   \n",
       "3  AVpgNzjwLJeJML43Kpxn  2015-10-30T08:59:32Z  2019-04-25T09:08:16Z   \n",
       "4  AVpgNzjwLJeJML43Kpxn  2015-10-30T08:59:32Z  2019-04-25T09:08:16Z   \n",
       "\n",
       "                                                name         brand  \\\n",
       "0  AmazonBasics AAA Performance Alkaline Batterie...  Amazonbasics   \n",
       "1  AmazonBasics AAA Performance Alkaline Batterie...  Amazonbasics   \n",
       "2  AmazonBasics AAA Performance Alkaline Batterie...  Amazonbasics   \n",
       "3  AmazonBasics AAA Performance Alkaline Batterie...  Amazonbasics   \n",
       "4  AmazonBasics AAA Performance Alkaline Batterie...  Amazonbasics   \n",
       "\n",
       "                                          categories primaryCategories  \\\n",
       "0  AA,AAA,Health,Electronics,Health & Household,C...   Health & Beauty   \n",
       "1  AA,AAA,Health,Electronics,Health & Household,C...   Health & Beauty   \n",
       "2  AA,AAA,Health,Electronics,Health & Household,C...   Health & Beauty   \n",
       "3  AA,AAA,Health,Electronics,Health & Household,C...   Health & Beauty   \n",
       "4  AA,AAA,Health,Electronics,Health & Household,C...   Health & Beauty   \n",
       "\n",
       "   reviews.rating                                       reviews.text  \\\n",
       "0               3  i order  of them and one of the item is bad qu...   \n",
       "1               4  bulk is always the less expensive way to go fo...   \n",
       "2               5  well they are not duracell but for the price i...   \n",
       "3               5  seem to work as well as name brand batteries a...   \n",
       "4               5  these batteries are very long lasting the pric...   \n",
       "\n",
       "                                       reviews.title  reviews.username  \\\n",
       "0  ... 3 of them and one of the item is bad quali...        Byger yang   \n",
       "1  ... always the less expensive way to go for pr...              ByMG   \n",
       "2  ... are not Duracell but for the price i am ha...  BySharon Lambert   \n",
       "3  ... as well as name brand batteries at a much ...     Bymark sexson   \n",
       "4  ... batteries are very long lasting the price ...           Bylinda   \n",
       "\n",
       "   text_word_count  title_word_count  \\\n",
       "0               31                20   \n",
       "1               13                11   \n",
       "2               12                11   \n",
       "3               14                11   \n",
       "4               10                10   \n",
       "\n",
       "                             tokenized_sentence_text  \\\n",
       "0  [i order  of them and one of the item is bad q...   \n",
       "1  [bulk is always the less expensive way to go f...   \n",
       "2  [well they are not duracell but for the price ...   \n",
       "3  [seem to work as well as name brand batteries ...   \n",
       "4  [these batteries are very long lasting the pri...   \n",
       "\n",
       "                                 tokenized_word_text  \\\n",
       "0  [i, order, of, them, and, one, of, the, item, ...   \n",
       "1  [bulk, is, always, the, less, expensive, way, ...   \n",
       "2  [well, they, are, not, duracell, but, for, the...   \n",
       "3  [seem, to, work, as, well, as, name, brand, ba...   \n",
       "4  [these, batteries, are, very, long, lasting, t...   \n",
       "\n",
       "                                              nostop  \\\n",
       "0  order one item bad quality missing backup spri...   \n",
       "1    bulk always less expensive way go products like   \n",
       "2                          well duracell price happy   \n",
       "3  seem work well name brand batteries much bette...   \n",
       "4                 batteries long lasting price great   \n",
       "\n",
       "                              tokenized_word_no_stop  \n",
       "0  [order, one, item, bad, quality, missing, back...  \n",
       "1  [bulk, always, less, expensive, way, go, produ...  \n",
       "2                     [well, duracell, price, happy]  \n",
       "3  [seem, work, well, name, brand, batteries, muc...  \n",
       "4           [batteries, long, lasting, price, great]  "
      ]
     },
     "execution_count": 36,
     "metadata": {},
     "output_type": "execute_result"
    }
   ],
   "source": [
    "#lets check the head of the data frame\n",
    "df_clean.head()"
   ]
  },
  {
   "cell_type": "code",
   "execution_count": 37,
   "metadata": {
    "ExecuteTime": {
     "end_time": "2020-02-05T06:34:51.654414Z",
     "start_time": "2020-02-05T06:34:51.579813Z"
    }
   },
   "outputs": [
    {
     "name": "stderr",
     "output_type": "stream",
     "text": [
      "/Users/nitinmahajan/opt/anaconda3/lib/python3.7/site-packages/ipykernel_launcher.py:1: SettingWithCopyWarning: \n",
      "A value is trying to be set on a copy of a slice from a DataFrame.\n",
      "Try using .loc[row_indexer,col_indexer] = value instead\n",
      "\n",
      "See the caveats in the documentation: http://pandas.pydata.org/pandas-docs/stable/user_guide/indexing.html#returning-a-view-versus-a-copy\n",
      "  \"\"\"Entry point for launching an IPython kernel.\n"
     ]
    }
   ],
   "source": [
    "df_clean['text_word_count'] = df_clean['nostop'].str.split().str.len()"
   ]
  },
  {
   "cell_type": "code",
   "execution_count": 38,
   "metadata": {
    "ExecuteTime": {
     "end_time": "2020-02-05T06:34:51.691155Z",
     "start_time": "2020-02-05T06:34:51.656014Z"
    }
   },
   "outputs": [
    {
     "data": {
      "text/html": [
       "<div>\n",
       "<style scoped>\n",
       "    .dataframe tbody tr th:only-of-type {\n",
       "        vertical-align: middle;\n",
       "    }\n",
       "\n",
       "    .dataframe tbody tr th {\n",
       "        vertical-align: top;\n",
       "    }\n",
       "\n",
       "    .dataframe thead th {\n",
       "        text-align: right;\n",
       "    }\n",
       "</style>\n",
       "<table border=\"1\" class=\"dataframe\">\n",
       "  <thead>\n",
       "    <tr style=\"text-align: right;\">\n",
       "      <th></th>\n",
       "      <th>id</th>\n",
       "      <th>dateAdded</th>\n",
       "      <th>dateUpdated</th>\n",
       "      <th>name</th>\n",
       "      <th>brand</th>\n",
       "      <th>categories</th>\n",
       "      <th>primaryCategories</th>\n",
       "      <th>reviews.rating</th>\n",
       "      <th>reviews.text</th>\n",
       "      <th>reviews.title</th>\n",
       "      <th>reviews.username</th>\n",
       "      <th>text_word_count</th>\n",
       "      <th>title_word_count</th>\n",
       "      <th>tokenized_sentence_text</th>\n",
       "      <th>tokenized_word_text</th>\n",
       "      <th>nostop</th>\n",
       "      <th>tokenized_word_no_stop</th>\n",
       "    </tr>\n",
       "  </thead>\n",
       "  <tbody>\n",
       "    <tr>\n",
       "      <td>0</td>\n",
       "      <td>AVpgNzjwLJeJML43Kpxn</td>\n",
       "      <td>2015-10-30T08:59:32Z</td>\n",
       "      <td>2019-04-25T09:08:16Z</td>\n",
       "      <td>AmazonBasics AAA Performance Alkaline Batterie...</td>\n",
       "      <td>Amazonbasics</td>\n",
       "      <td>AA,AAA,Health,Electronics,Health &amp; Household,C...</td>\n",
       "      <td>Health &amp; Beauty</td>\n",
       "      <td>3</td>\n",
       "      <td>i order  of them and one of the item is bad qu...</td>\n",
       "      <td>... 3 of them and one of the item is bad quali...</td>\n",
       "      <td>Byger yang</td>\n",
       "      <td>14</td>\n",
       "      <td>20</td>\n",
       "      <td>[i order  of them and one of the item is bad q...</td>\n",
       "      <td>[i, order, of, them, and, one, of, the, item, ...</td>\n",
       "      <td>order one item bad quality missing backup spri...</td>\n",
       "      <td>[order, one, item, bad, quality, missing, back...</td>\n",
       "    </tr>\n",
       "    <tr>\n",
       "      <td>1</td>\n",
       "      <td>AVpgNzjwLJeJML43Kpxn</td>\n",
       "      <td>2015-10-30T08:59:32Z</td>\n",
       "      <td>2019-04-25T09:08:16Z</td>\n",
       "      <td>AmazonBasics AAA Performance Alkaline Batterie...</td>\n",
       "      <td>Amazonbasics</td>\n",
       "      <td>AA,AAA,Health,Electronics,Health &amp; Household,C...</td>\n",
       "      <td>Health &amp; Beauty</td>\n",
       "      <td>4</td>\n",
       "      <td>bulk is always the less expensive way to go fo...</td>\n",
       "      <td>... always the less expensive way to go for pr...</td>\n",
       "      <td>ByMG</td>\n",
       "      <td>8</td>\n",
       "      <td>11</td>\n",
       "      <td>[bulk is always the less expensive way to go f...</td>\n",
       "      <td>[bulk, is, always, the, less, expensive, way, ...</td>\n",
       "      <td>bulk always less expensive way go products like</td>\n",
       "      <td>[bulk, always, less, expensive, way, go, produ...</td>\n",
       "    </tr>\n",
       "    <tr>\n",
       "      <td>2</td>\n",
       "      <td>AVpgNzjwLJeJML43Kpxn</td>\n",
       "      <td>2015-10-30T08:59:32Z</td>\n",
       "      <td>2019-04-25T09:08:16Z</td>\n",
       "      <td>AmazonBasics AAA Performance Alkaline Batterie...</td>\n",
       "      <td>Amazonbasics</td>\n",
       "      <td>AA,AAA,Health,Electronics,Health &amp; Household,C...</td>\n",
       "      <td>Health &amp; Beauty</td>\n",
       "      <td>5</td>\n",
       "      <td>well they are not duracell but for the price i...</td>\n",
       "      <td>... are not Duracell but for the price i am ha...</td>\n",
       "      <td>BySharon Lambert</td>\n",
       "      <td>4</td>\n",
       "      <td>11</td>\n",
       "      <td>[well they are not duracell but for the price ...</td>\n",
       "      <td>[well, they, are, not, duracell, but, for, the...</td>\n",
       "      <td>well duracell price happy</td>\n",
       "      <td>[well, duracell, price, happy]</td>\n",
       "    </tr>\n",
       "    <tr>\n",
       "      <td>3</td>\n",
       "      <td>AVpgNzjwLJeJML43Kpxn</td>\n",
       "      <td>2015-10-30T08:59:32Z</td>\n",
       "      <td>2019-04-25T09:08:16Z</td>\n",
       "      <td>AmazonBasics AAA Performance Alkaline Batterie...</td>\n",
       "      <td>Amazonbasics</td>\n",
       "      <td>AA,AAA,Health,Electronics,Health &amp; Household,C...</td>\n",
       "      <td>Health &amp; Beauty</td>\n",
       "      <td>5</td>\n",
       "      <td>seem to work as well as name brand batteries a...</td>\n",
       "      <td>... as well as name brand batteries at a much ...</td>\n",
       "      <td>Bymark sexson</td>\n",
       "      <td>9</td>\n",
       "      <td>11</td>\n",
       "      <td>[seem to work as well as name brand batteries ...</td>\n",
       "      <td>[seem, to, work, as, well, as, name, brand, ba...</td>\n",
       "      <td>seem work well name brand batteries much bette...</td>\n",
       "      <td>[seem, work, well, name, brand, batteries, muc...</td>\n",
       "    </tr>\n",
       "    <tr>\n",
       "      <td>4</td>\n",
       "      <td>AVpgNzjwLJeJML43Kpxn</td>\n",
       "      <td>2015-10-30T08:59:32Z</td>\n",
       "      <td>2019-04-25T09:08:16Z</td>\n",
       "      <td>AmazonBasics AAA Performance Alkaline Batterie...</td>\n",
       "      <td>Amazonbasics</td>\n",
       "      <td>AA,AAA,Health,Electronics,Health &amp; Household,C...</td>\n",
       "      <td>Health &amp; Beauty</td>\n",
       "      <td>5</td>\n",
       "      <td>these batteries are very long lasting the pric...</td>\n",
       "      <td>... batteries are very long lasting the price ...</td>\n",
       "      <td>Bylinda</td>\n",
       "      <td>5</td>\n",
       "      <td>10</td>\n",
       "      <td>[these batteries are very long lasting the pri...</td>\n",
       "      <td>[these, batteries, are, very, long, lasting, t...</td>\n",
       "      <td>batteries long lasting price great</td>\n",
       "      <td>[batteries, long, lasting, price, great]</td>\n",
       "    </tr>\n",
       "  </tbody>\n",
       "</table>\n",
       "</div>"
      ],
      "text/plain": [
       "                     id             dateAdded           dateUpdated  \\\n",
       "0  AVpgNzjwLJeJML43Kpxn  2015-10-30T08:59:32Z  2019-04-25T09:08:16Z   \n",
       "1  AVpgNzjwLJeJML43Kpxn  2015-10-30T08:59:32Z  2019-04-25T09:08:16Z   \n",
       "2  AVpgNzjwLJeJML43Kpxn  2015-10-30T08:59:32Z  2019-04-25T09:08:16Z   \n",
       "3  AVpgNzjwLJeJML43Kpxn  2015-10-30T08:59:32Z  2019-04-25T09:08:16Z   \n",
       "4  AVpgNzjwLJeJML43Kpxn  2015-10-30T08:59:32Z  2019-04-25T09:08:16Z   \n",
       "\n",
       "                                                name         brand  \\\n",
       "0  AmazonBasics AAA Performance Alkaline Batterie...  Amazonbasics   \n",
       "1  AmazonBasics AAA Performance Alkaline Batterie...  Amazonbasics   \n",
       "2  AmazonBasics AAA Performance Alkaline Batterie...  Amazonbasics   \n",
       "3  AmazonBasics AAA Performance Alkaline Batterie...  Amazonbasics   \n",
       "4  AmazonBasics AAA Performance Alkaline Batterie...  Amazonbasics   \n",
       "\n",
       "                                          categories primaryCategories  \\\n",
       "0  AA,AAA,Health,Electronics,Health & Household,C...   Health & Beauty   \n",
       "1  AA,AAA,Health,Electronics,Health & Household,C...   Health & Beauty   \n",
       "2  AA,AAA,Health,Electronics,Health & Household,C...   Health & Beauty   \n",
       "3  AA,AAA,Health,Electronics,Health & Household,C...   Health & Beauty   \n",
       "4  AA,AAA,Health,Electronics,Health & Household,C...   Health & Beauty   \n",
       "\n",
       "   reviews.rating                                       reviews.text  \\\n",
       "0               3  i order  of them and one of the item is bad qu...   \n",
       "1               4  bulk is always the less expensive way to go fo...   \n",
       "2               5  well they are not duracell but for the price i...   \n",
       "3               5  seem to work as well as name brand batteries a...   \n",
       "4               5  these batteries are very long lasting the pric...   \n",
       "\n",
       "                                       reviews.title  reviews.username  \\\n",
       "0  ... 3 of them and one of the item is bad quali...        Byger yang   \n",
       "1  ... always the less expensive way to go for pr...              ByMG   \n",
       "2  ... are not Duracell but for the price i am ha...  BySharon Lambert   \n",
       "3  ... as well as name brand batteries at a much ...     Bymark sexson   \n",
       "4  ... batteries are very long lasting the price ...           Bylinda   \n",
       "\n",
       "   text_word_count  title_word_count  \\\n",
       "0               14                20   \n",
       "1                8                11   \n",
       "2                4                11   \n",
       "3                9                11   \n",
       "4                5                10   \n",
       "\n",
       "                             tokenized_sentence_text  \\\n",
       "0  [i order  of them and one of the item is bad q...   \n",
       "1  [bulk is always the less expensive way to go f...   \n",
       "2  [well they are not duracell but for the price ...   \n",
       "3  [seem to work as well as name brand batteries ...   \n",
       "4  [these batteries are very long lasting the pri...   \n",
       "\n",
       "                                 tokenized_word_text  \\\n",
       "0  [i, order, of, them, and, one, of, the, item, ...   \n",
       "1  [bulk, is, always, the, less, expensive, way, ...   \n",
       "2  [well, they, are, not, duracell, but, for, the...   \n",
       "3  [seem, to, work, as, well, as, name, brand, ba...   \n",
       "4  [these, batteries, are, very, long, lasting, t...   \n",
       "\n",
       "                                              nostop  \\\n",
       "0  order one item bad quality missing backup spri...   \n",
       "1    bulk always less expensive way go products like   \n",
       "2                          well duracell price happy   \n",
       "3  seem work well name brand batteries much bette...   \n",
       "4                 batteries long lasting price great   \n",
       "\n",
       "                              tokenized_word_no_stop  \n",
       "0  [order, one, item, bad, quality, missing, back...  \n",
       "1  [bulk, always, less, expensive, way, go, produ...  \n",
       "2                     [well, duracell, price, happy]  \n",
       "3  [seem, work, well, name, brand, batteries, muc...  \n",
       "4           [batteries, long, lasting, price, great]  "
      ]
     },
     "execution_count": 38,
     "metadata": {},
     "output_type": "execute_result"
    }
   ],
   "source": [
    "df_clean.head()"
   ]
  },
  {
   "cell_type": "code",
   "execution_count": 39,
   "metadata": {
    "ExecuteTime": {
     "end_time": "2020-02-05T06:34:51.699220Z",
     "start_time": "2020-02-05T06:34:51.692998Z"
    }
   },
   "outputs": [
    {
     "data": {
      "text/plain": [
       "6      2337\n",
       "7      2336\n",
       "8      1953\n",
       "5      1885\n",
       "2      1823\n",
       "       ... \n",
       "444       1\n",
       "107       1\n",
       "242       1\n",
       "120       1\n",
       "123       1\n",
       "Name: text_word_count, Length: 161, dtype: int64"
      ]
     },
     "execution_count": 39,
     "metadata": {},
     "output_type": "execute_result"
    }
   ],
   "source": [
    "df_clean['text_word_count'].value_counts()"
   ]
  },
  {
   "cell_type": "code",
   "execution_count": 40,
   "metadata": {
    "ExecuteTime": {
     "end_time": "2020-02-05T06:34:51.832107Z",
     "start_time": "2020-02-05T06:34:51.700876Z"
    }
   },
   "outputs": [
    {
     "data": {
      "text/plain": [
       "<matplotlib.axes._subplots.AxesSubplot at 0x1a2b3ca290>"
      ]
     },
     "execution_count": 40,
     "metadata": {},
     "output_type": "execute_result"
    },
    {
     "data": {
      "image/png": "[encoded data removed]",
      "text/plain": [
       "<Figure size 288x576 with 1 Axes>"
      ]
     },
     "metadata": {
      "needs_background": "light"
     },
     "output_type": "display_data"
    }
   ],
   "source": [
    "plt.figure(figsize=(4, 8))\n",
    "plt.title('BoxPlot \"Text_word_count\"', fontsize = 10)\n",
    "sns.boxplot(y=df_clean[\"text_word_count\"])"
   ]
  },
  {
   "cell_type": "markdown",
   "metadata": {},
   "source": [
    "__<font color= 'blue' size = 4 > Inference </font>__\n",
    "\n",
    "- We can definitely remove some outliers with confidence to get the a better distribution of the data as far as the textword count is concerned."
   ]
  },
  {
   "cell_type": "code",
   "execution_count": 41,
   "metadata": {
    "ExecuteTime": {
     "end_time": "2020-02-05T06:34:51.839963Z",
     "start_time": "2020-02-05T06:34:51.833394Z"
    }
   },
   "outputs": [],
   "source": [
    "#Get rid of outliers in the text word count column\n",
    "\n",
    "twc_no_outliers = df_clean[\"text_word_count\"][df_clean[\"text_word_count\"].between(df_clean[\"text_word_count\"].quantile(.15), \n",
    "                                                                         df_clean[\"text_word_count\"].quantile(.95))]"
   ]
  },
  {
   "cell_type": "code",
   "execution_count": 42,
   "metadata": {
    "ExecuteTime": {
     "end_time": "2020-02-05T06:34:51.961967Z",
     "start_time": "2020-02-05T06:34:51.841396Z"
    }
   },
   "outputs": [
    {
     "data": {
      "text/plain": [
       "<matplotlib.axes._subplots.AxesSubplot at 0x1a2ef66dd0>"
      ]
     },
     "execution_count": 42,
     "metadata": {},
     "output_type": "execute_result"
    },
    {
     "data": {
      "image/png": "[encoded data removed]",
      "text/plain": [
       "<Figure size 216x576 with 1 Axes>"
      ]
     },
     "metadata": {
      "needs_background": "light"
     },
     "output_type": "display_data"
    }
   ],
   "source": [
    "plt.figure(figsize=(3, 8))\n",
    "plt.title('BoxPlot \"Text_word_count (Outliers Removed)\"', fontsize = 10)\n",
    "sns.boxplot(y=twc_no_outliers, palette=['purple'])"
   ]
  },
  {
   "cell_type": "markdown",
   "metadata": {
    "ExecuteTime": {
     "end_time": "2020-02-04T21:58:14.158266Z",
     "start_time": "2020-02-04T21:58:14.153619Z"
    }
   },
   "source": [
    "__<font color= 'blue' size = 4 >Distributions of word counts based on rating </font>__ "
   ]
  },
  {
   "cell_type": "code",
   "execution_count": 43,
   "metadata": {
    "ExecuteTime": {
     "end_time": "2020-02-05T06:34:52.405582Z",
     "start_time": "2020-02-05T06:34:51.963278Z"
    }
   },
   "outputs": [
    {
     "data": {
      "image/png": "[encoded data removed]",
      "text/plain": [
       "<Figure size 432x288 with 1 Axes>"
      ]
     },
     "metadata": {
      "needs_background": "light"
     },
     "output_type": "display_data"
    }
   ],
   "source": [
    "#seperate by rating\n",
    "five = df_clean[df_clean['reviews.rating'] == 5]\n",
    "four = df_clean[df_clean['reviews.rating'] == 4]\n",
    "three = df_clean[df_clean['reviews.rating'] == 3]\n",
    "two = df_clean[df_clean['reviews.rating'] == 2]\n",
    "one = df_clean[df_clean['reviews.rating'] == 1]\n",
    "\n",
    "#plot distributions\n",
    "sns.distplot(five['text_word_count'])\n",
    "sns.distplot(four['text_word_count'])\n",
    "sns.distplot(three['text_word_count'])\n",
    "sns.distplot(two['text_word_count'])\n",
    "sns.distplot(one['text_word_count'])\n",
    "plt.show()"
   ]
  },
  {
   "cell_type": "markdown",
   "metadata": {},
   "source": [
    "__<font color= 'blue' size = 4 > Inference </font>__\n",
    "\n",
    "- The distribution is more towards the left hand side. We nned to remove some outliers here as well. "
   ]
  },
  {
   "cell_type": "code",
   "execution_count": 44,
   "metadata": {
    "ExecuteTime": {
     "end_time": "2020-02-05T06:34:52.428957Z",
     "start_time": "2020-02-05T06:34:52.407068Z"
    }
   },
   "outputs": [],
   "source": [
    "#Remove outliers (to kill two birds with one bow)\n",
    "five_no_out = five[\"text_word_count\"][five[\"text_word_count\"].between(five[\"text_word_count\"].quantile(.15), \n",
    "                                                                         five[\"text_word_count\"].quantile(.95))]\n",
    "four_no_out = four[\"text_word_count\"][four[\"text_word_count\"].between(four[\"text_word_count\"].quantile(.15), \n",
    "                                                                         four[\"text_word_count\"].quantile(.95))]\n",
    "three_no_out = three[\"text_word_count\"][three[\"text_word_count\"].between(three[\"text_word_count\"].quantile(.15), \n",
    "                                                                         three[\"text_word_count\"].quantile(.95))]\n",
    "two_no_out = two[\"text_word_count\"][two[\"text_word_count\"].between(two[\"text_word_count\"].quantile(.15), \n",
    "                                                                         two[\"text_word_count\"].quantile(.95))]\n",
    "one_no_out = one[\"text_word_count\"][one[\"text_word_count\"].between(one[\"text_word_count\"].quantile(.15), \n",
    "                                                                         one[\"text_word_count\"].quantile(.95))]"
   ]
  },
  {
   "cell_type": "code",
   "execution_count": 45,
   "metadata": {
    "ExecuteTime": {
     "end_time": "2020-02-05T06:34:52.866435Z",
     "start_time": "2020-02-05T06:34:52.430349Z"
    }
   },
   "outputs": [
    {
     "data": {
      "image/png": "[encoded data removed]",
      "text/plain": [
       "<Figure size 720x360 with 1 Axes>"
      ]
     },
     "metadata": {
      "needs_background": "light"
     },
     "output_type": "display_data"
    }
   ],
   "source": [
    "#plot distributions\n",
    "plt.figure(figsize=(10, 5))\n",
    "sns.distplot(five_no_out)\n",
    "sns.distplot(four_no_out)\n",
    "sns.distplot(three_no_out)\n",
    "sns.distplot(two_no_out)\n",
    "sns.distplot(one_no_out)\n",
    "plt.legend(labels = ['Five Stars', 'Four Stars', 'Three Stars', 'Two Stars', 'One Star'], loc= 'best')\n",
    "plt.ylabel('Distribution')\n",
    "plt.xlabel('Words Count')\n",
    "plt.title('Distribution of Reviews Based on Word Count and Rating')\n",
    "plt.show()"
   ]
  },
  {
   "cell_type": "code",
   "execution_count": 46,
   "metadata": {
    "ExecuteTime": {
     "end_time": "2020-02-05T06:34:53.104151Z",
     "start_time": "2020-02-05T06:34:52.867619Z"
    }
   },
   "outputs": [
    {
     "data": {
      "image/png": "[encoded data removed]",
      "text/plain": [
       "<Figure size 720x360 with 1 Axes>"
      ]
     },
     "metadata": {
      "needs_background": "light"
     },
     "output_type": "display_data"
    }
   ],
   "source": [
    "####plot distributions with out the histograms ###\n",
    "plt.figure(figsize=(10, 5))\n",
    "sns.distplot(five_no_out, hist=False)\n",
    "sns.distplot(four_no_out, hist=False)\n",
    "sns.distplot(three_no_out, hist=False)\n",
    "sns.distplot(two_no_out, hist=False)\n",
    "sns.distplot(one_no_out, hist=False)\n",
    "plt.legend(labels = ['Five Stars', 'Four Stars', 'Three Stars', 'Two Stars', 'One Star'], loc= 'best')\n",
    "plt.ylabel('Distribution')\n",
    "plt.xlabel('Words Count')\n",
    "plt.title('Distribution of Reviews Based on Word Count and Rating')\n",
    "plt.show()"
   ]
  },
  {
   "cell_type": "markdown",
   "metadata": {},
   "source": [
    "__<font color= 'blue' size = 3 > Inference </font>__\n",
    "\n",
    "- All 5 distributions follow the same trend, with a peak at around 10 words per review.\n",
    "\n",
    "- There seems no correlation with word count and rating"
   ]
  },
  {
   "cell_type": "markdown",
   "metadata": {},
   "source": [
    "__<font color= 'blue' size = 5 > Machine Learning </font>__"
   ]
  },
  {
   "cell_type": "code",
   "execution_count": 47,
   "metadata": {
    "ExecuteTime": {
     "end_time": "2020-02-05T06:34:53.108352Z",
     "start_time": "2020-02-05T06:34:53.105647Z"
    }
   },
   "outputs": [],
   "source": [
    "from sklearn.feature_extraction.text import CountVectorizer\n",
    "from sklearn.model_selection import train_test_split"
   ]
  },
  {
   "cell_type": "code",
   "execution_count": 48,
   "metadata": {
    "ExecuteTime": {
     "end_time": "2020-02-05T06:34:53.117976Z",
     "start_time": "2020-02-05T06:34:53.109891Z"
    }
   },
   "outputs": [],
   "source": [
    "X_train, X_test, y_train, y_test = train_test_split(df_clean[\"nostop\"], df_clean['reviews.rating'],\n",
    "                                                    test_size=0.20, random_state = 42)\n",
    "\n"
   ]
  },
  {
   "cell_type": "markdown",
   "metadata": {},
   "source": [
    "__<font color= 'blue' size = 3 > CountVectorizer <font>__\n",
    "\n",
    "- By using CountVectorizer function we can convert text document to matrix of word count.\n",
    "\n",
    "- The CountVectorizer transformer from the sklearn.feature_extraction model has its own internal tokenization and normalization methods. "
   ]
  },
  {
   "cell_type": "code",
   "execution_count": 49,
   "metadata": {
    "ExecuteTime": {
     "end_time": "2020-02-05T06:34:53.121649Z",
     "start_time": "2020-02-05T06:34:53.119531Z"
    }
   },
   "outputs": [],
   "source": [
    "# Initialize a CountVectorizer object: count_vectorizer\n",
    "count_vectorizer = CountVectorizer(stop_words=\"english\")"
   ]
  },
  {
   "cell_type": "code",
   "execution_count": 50,
   "metadata": {
    "ExecuteTime": {
     "end_time": "2020-02-05T06:34:53.500478Z",
     "start_time": "2020-02-05T06:34:53.123027Z"
    }
   },
   "outputs": [
    {
     "name": "stdout",
     "output_type": "stream",
     "text": [
      "['_without_', 'aa', 'aaa', 'aaai', 'aaas', 'aas', 'aawith', 'abandon', 'abc', 'abcmousecom', 'abcs', 'abg', 'abi', 'abilities', 'ability', 'abit', 'abj', 'abke', 'able', 'abnormal']\n"
     ]
    }
   ],
   "source": [
    "# Transform the training data using only the 'text' column values: count_train \n",
    "count_train = count_vectorizer.fit_transform(X_train)\n",
    "\n",
    "# Transform the test data using only the 'text' column values: count_test \n",
    "count_test = count_vectorizer.transform(X_test)\n",
    "\n",
    "# Print the first 20 features of the count_vectorizer\n",
    "print(count_vectorizer.get_feature_names()[:20])"
   ]
  },
  {
   "cell_type": "markdown",
   "metadata": {},
   "source": [
    "__<font color= 'blue' size = 3 > TfidfVectorizer <font>__\n",
    "\n",
    "- TF-IDF stands for Term Frequency-Inverse Document Frequency which basically tells importance of the word in the corpus or dataset. TF-IDF contain two concept Term Frequency(TF) and Inverse Document Frequency(IDF)\n",
    "\n",
    "- Scikit-Learn provides a transformer called the TfidfVectorizer in the module called feature_extraction.text for vectorizing documents with TF–IDF scores.\n",
    "\n",
    "- `TfidfVectorizer` uses the `CountVectorizer` estimator we used to produce the bag-of-words encoding to count occurrences of tokens, followed by a TfidfTransformer, which normalizes these occurrence counts by the inverse document frequency."
   ]
  },
  {
   "cell_type": "code",
   "execution_count": 51,
   "metadata": {
    "ExecuteTime": {
     "end_time": "2020-02-05T06:34:54.217981Z",
     "start_time": "2020-02-05T06:34:53.501929Z"
    }
   },
   "outputs": [
    {
     "name": "stdout",
     "output_type": "stream",
     "text": [
      "['_without_', 'aa', 'aaa', 'aaai', 'aaas']\n",
      "[[0. 0. 0. ... 0. 0. 0.]\n",
      " [0. 0. 0. ... 0. 0. 0.]\n",
      " [0. 0. 0. ... 0. 0. 0.]]\n"
     ]
    }
   ],
   "source": [
    "# Import TfidfVectorizer\n",
    "from sklearn.feature_extraction.text import TfidfVectorizer\n",
    "\n",
    "# Initialize a TfidfVectorizer object: tfidf_vectorizer\n",
    "tfidf_vectorizer = TfidfVectorizer(stop_words=\"english\", max_df=0.7)\n",
    "\n",
    "# Transform the training data: tfidf_train \n",
    "tfidf_train = tfidf_vectorizer.fit_transform(X_train)\n",
    "\n",
    "# Transform the test data: tfidf_test \n",
    "tfidf_test = tfidf_vectorizer.transform(X_test)\n",
    "\n",
    "# Print the first 5 features\n",
    "print(tfidf_vectorizer.get_feature_names()[:5])\n",
    "\n",
    "# Print the first 3 vectors of the tfidf training data\n",
    "print(tfidf_train.A[:3])"
   ]
  },
  {
   "cell_type": "code",
   "execution_count": 52,
   "metadata": {
    "ExecuteTime": {
     "end_time": "2020-02-05T06:34:54.909870Z",
     "start_time": "2020-02-05T06:34:54.219376Z"
    }
   },
   "outputs": [
    {
     "name": "stdout",
     "output_type": "stream",
     "text": [
      "   _without_  aa  aaa  aaai  aaas  aas  aawith  abandon  abc  abcmousecom  \\\n",
      "0          0   0    0     0     0    0       0        0    0            0   \n",
      "1          0   0    0     0     0    0       0        0    0            0   \n",
      "2          0   0    0     0     0    0       0        0    0            0   \n",
      "3          0   0    0     0     0    0       0        0    0            0   \n",
      "4          0   0    0     0     0    0       0        0    0            0   \n",
      "\n",
      "   ...  äôs  äôsadvertisement  äôt  äôve  äù  äùtablet  äúdual  äúparent  \\\n",
      "0  ...    0                 0    0     0   0         0       0         0   \n",
      "1  ...    0                 0    0     0   0         0       0         0   \n",
      "2  ...    0                 0    0     0   0         0       0         0   \n",
      "3  ...    0                 0    0     0   0         0       0         0   \n",
      "4  ...    0                 0    0     0   0         0       0         0   \n",
      "\n",
      "   äúyou  ôºå  \n",
      "0      0    0  \n",
      "1      0    0  \n",
      "2      0    0  \n",
      "3      0    0  \n",
      "4      0    0  \n",
      "\n",
      "[5 rows x 10295 columns]\n",
      "   _without_   aa  aaa  aaai  aaas  aas  aawith  abandon  abc  abcmousecom  \\\n",
      "0        0.0  0.0  0.0   0.0   0.0  0.0     0.0      0.0  0.0          0.0   \n",
      "1        0.0  0.0  0.0   0.0   0.0  0.0     0.0      0.0  0.0          0.0   \n",
      "2        0.0  0.0  0.0   0.0   0.0  0.0     0.0      0.0  0.0          0.0   \n",
      "3        0.0  0.0  0.0   0.0   0.0  0.0     0.0      0.0  0.0          0.0   \n",
      "4        0.0  0.0  0.0   0.0   0.0  0.0     0.0      0.0  0.0          0.0   \n",
      "\n",
      "   ...  äôs  äôsadvertisement  äôt  äôve   äù  äùtablet  äúdual  äúparent  \\\n",
      "0  ...  0.0               0.0  0.0   0.0  0.0       0.0     0.0       0.0   \n",
      "1  ...  0.0               0.0  0.0   0.0  0.0       0.0     0.0       0.0   \n",
      "2  ...  0.0               0.0  0.0   0.0  0.0       0.0     0.0       0.0   \n",
      "3  ...  0.0               0.0  0.0   0.0  0.0       0.0     0.0       0.0   \n",
      "4  ...  0.0               0.0  0.0   0.0  0.0       0.0     0.0       0.0   \n",
      "\n",
      "   äúyou  ôºå  \n",
      "0    0.0  0.0  \n",
      "1    0.0  0.0  \n",
      "2    0.0  0.0  \n",
      "3    0.0  0.0  \n",
      "4    0.0  0.0  \n",
      "\n",
      "[5 rows x 10295 columns]\n",
      "set()\n"
     ]
    }
   ],
   "source": [
    "# Create the CountVectorizer DataFrame: count_df\n",
    "count_df = pd.DataFrame(count_train.A, columns=count_vectorizer.get_feature_names())\n",
    "\n",
    "# Create the TfidfVectorizer DataFrame: tfidf_df\n",
    "tfidf_df = pd.DataFrame(tfidf_train.A, columns=tfidf_vectorizer.get_feature_names())\n",
    "\n",
    "# Print the head of count_df\n",
    "print(count_df.head())\n",
    "\n",
    "# Print the head of tfidf_df\n",
    "print(tfidf_df.head())\n",
    "\n",
    "# Calculate the difference in columns: difference\n",
    "difference = set(count_df.columns) - set(tfidf_df.columns)\n",
    "print(difference)"
   ]
  },
  {
   "cell_type": "code",
   "execution_count": 53,
   "metadata": {
    "ExecuteTime": {
     "end_time": "2020-02-05T06:34:54.913193Z",
     "start_time": "2020-02-05T06:34:54.911102Z"
    }
   },
   "outputs": [],
   "source": [
    "from sklearn.metrics import classification_report"
   ]
  },
  {
   "cell_type": "markdown",
   "metadata": {},
   "source": [
    "__<font size = 5 color = 'Blue' > Models Created: </font>__\n",
    "\n",
    "__<font size = 3 color = 'green' > Naive Bayes model </font>__\n",
    "\n",
    "__<font size = 3 color = 'green' > Logistic regression model </font>__\n",
    "\n",
    "__<font size = 3 color = 'green' > Decision tree model </font>__"
   ]
  },
  {
   "cell_type": "markdown",
   "metadata": {},
   "source": [
    "__<font size = 3 color = 'Blue' > Naive Bayes Classifier </font>__"
   ]
  },
  {
   "cell_type": "code",
   "execution_count": 54,
   "metadata": {
    "ExecuteTime": {
     "end_time": "2020-02-05T06:34:54.929656Z",
     "start_time": "2020-02-05T06:34:54.914508Z"
    }
   },
   "outputs": [],
   "source": [
    "# Import the necessary modules\n",
    "from sklearn import metrics\n",
    "from sklearn.naive_bayes import MultinomialNB\n",
    "\n",
    "# Instantiate a Multinomial Naive Bayes classifier: nb_classifier\n",
    "nb_classifier = MultinomialNB()\n",
    "\n",
    "# Fit the classifier to the training data\n",
    "nb_classifier.fit(count_train, y_train)\n",
    "\n",
    "# Create the predicted tags: pred\n",
    "pred = nb_classifier.predict(count_test)"
   ]
  },
  {
   "cell_type": "code",
   "execution_count": 55,
   "metadata": {
    "ExecuteTime": {
     "end_time": "2020-02-05T06:34:54.954823Z",
     "start_time": "2020-02-05T06:34:54.930967Z"
    }
   },
   "outputs": [
    {
     "name": "stdout",
     "output_type": "stream",
     "text": [
      "train set accuracy 0.7872049415398191\n",
      "test set accuracy: 0.7548967707781895\n",
      "              precision    recall  f1-score   support\n",
      "\n",
      "           1       0.63      0.56      0.59       185\n",
      "           2       0.86      0.09      0.16       140\n",
      "           3       0.59      0.07      0.12       254\n",
      "           4       0.54      0.32      0.40      1093\n",
      "           5       0.79      0.95      0.86      3995\n",
      "\n",
      "    accuracy                           0.75      5667\n",
      "   macro avg       0.68      0.40      0.43      5667\n",
      "weighted avg       0.73      0.75      0.71      5667\n",
      "\n"
     ]
    }
   ],
   "source": [
    "print('train set accuracy', nb_classifier.fit(count_train, y_train).score(count_train, y_train))\n",
    "# Calculate the accuracy score: score\n",
    "score = metrics.accuracy_score(y_test, pred)\n",
    "print('test set accuracy:', score)\n",
    "#naive bayes classification report\n",
    "print(classification_report(y_test, pred))"
   ]
  },
  {
   "cell_type": "markdown",
   "metadata": {
    "ExecuteTime": {
     "end_time": "2020-02-05T03:59:13.122407Z",
     "start_time": "2020-02-05T03:59:13.117692Z"
    }
   },
   "source": [
    "__<font size = 3 color = 'Blue' > Logistic Regression </font>__"
   ]
  },
  {
   "cell_type": "code",
   "execution_count": 56,
   "metadata": {
    "ExecuteTime": {
     "end_time": "2020-02-05T06:34:55.984566Z",
     "start_time": "2020-02-05T06:34:54.956222Z"
    }
   },
   "outputs": [
    {
     "name": "stderr",
     "output_type": "stream",
     "text": [
      "/Users/nitinmahajan/opt/anaconda3/lib/python3.7/site-packages/sklearn/linear_model/logistic.py:432: FutureWarning: Default solver will be changed to 'lbfgs' in 0.22. Specify a solver to silence this warning.\n",
      "  FutureWarning)\n",
      "/Users/nitinmahajan/opt/anaconda3/lib/python3.7/site-packages/sklearn/linear_model/logistic.py:469: FutureWarning: Default multi_class will be changed to 'auto' in 0.22. Specify the multi_class option to silence this warning.\n",
      "  \"this warning.\", FutureWarning)\n"
     ]
    }
   ],
   "source": [
    "# Start with logistic regression\n",
    "from sklearn.linear_model import LogisticRegression\n",
    "\n",
    "# Instantiate a Logistic Regression classifier: nb_classifier\n",
    "lr_classifier = LogisticRegression()\n",
    "\n",
    "# Fit the classifier to the training data\n",
    "lr_classifier.fit(count_train, y_train).score(count_train, y_train)\n",
    "\n",
    "# Create the predicted tags: pred\n",
    "predlr = lr_classifier.predict(count_test)"
   ]
  },
  {
   "cell_type": "code",
   "execution_count": 57,
   "metadata": {
    "ExecuteTime": {
     "end_time": "2020-02-05T06:34:56.966868Z",
     "start_time": "2020-02-05T06:34:55.985878Z"
    }
   },
   "outputs": [
    {
     "name": "stdout",
     "output_type": "stream",
     "text": [
      "train set accuracy 0.8400617692477388\n",
      "test set accuracy: 0.7748367743073937\n",
      "              precision    recall  f1-score   support\n",
      "\n",
      "           1       0.75      0.56      0.64       185\n",
      "           2       0.67      0.26      0.38       140\n",
      "           3       0.59      0.19      0.29       254\n",
      "           4       0.63      0.33      0.44      1093\n",
      "           5       0.80      0.96      0.87      3995\n",
      "\n",
      "    accuracy                           0.77      5667\n",
      "   macro avg       0.69      0.46      0.52      5667\n",
      "weighted avg       0.75      0.77      0.74      5667\n",
      "\n"
     ]
    }
   ],
   "source": [
    "print('train set accuracy', lr_classifier.fit(count_train, y_train).score(count_train, y_train))\n",
    "score = metrics.accuracy_score(y_test, predlr)\n",
    "print('test set accuracy:', score)\n",
    "\n",
    "#Logistic Regression Classification report\n",
    "print(classification_report(y_test, predlr))"
   ]
  },
  {
   "cell_type": "markdown",
   "metadata": {},
   "source": [
    "__<font size = 3 color = 'Blue' > Decision Tree Classifier </font>__"
   ]
  },
  {
   "cell_type": "code",
   "execution_count": 58,
   "metadata": {
    "ExecuteTime": {
     "end_time": "2020-02-05T06:34:57.011604Z",
     "start_time": "2020-02-05T06:34:56.968273Z"
    }
   },
   "outputs": [],
   "source": [
    "from sklearn.tree import DecisionTreeClassifier"
   ]
  },
  {
   "cell_type": "code",
   "execution_count": 59,
   "metadata": {
    "ExecuteTime": {
     "end_time": "2020-02-05T06:34:57.015241Z",
     "start_time": "2020-02-05T06:34:57.012806Z"
    }
   },
   "outputs": [],
   "source": [
    "dtclassifier = DecisionTreeClassifier()"
   ]
  },
  {
   "cell_type": "code",
   "execution_count": 60,
   "metadata": {
    "ExecuteTime": {
     "end_time": "2020-02-05T06:35:00.166351Z",
     "start_time": "2020-02-05T06:34:57.016840Z"
    }
   },
   "outputs": [
    {
     "name": "stdout",
     "output_type": "stream",
     "text": [
      "train set accuracy 0.9834105448930068\n"
     ]
    }
   ],
   "source": [
    "# Fit the classifier to the training data\n",
    "print('train set accuracy', dtclassifier.fit(count_train, y_train).score(count_train, y_train))"
   ]
  },
  {
   "cell_type": "code",
   "execution_count": 61,
   "metadata": {
    "ExecuteTime": {
     "end_time": "2020-02-05T06:35:00.174630Z",
     "start_time": "2020-02-05T06:35:00.167438Z"
    }
   },
   "outputs": [],
   "source": [
    "# Create the predicted tags: pred\n",
    "preddt = dtclassifier.predict(count_test)"
   ]
  },
  {
   "cell_type": "code",
   "execution_count": 62,
   "metadata": {
    "ExecuteTime": {
     "end_time": "2020-02-05T06:35:03.225747Z",
     "start_time": "2020-02-05T06:35:00.175933Z"
    }
   },
   "outputs": [
    {
     "name": "stdout",
     "output_type": "stream",
     "text": [
      "train set accuracy 0.9834105448930068\n",
      "test set accuracy 0.8046585494970884\n",
      "              precision    recall  f1-score   support\n",
      "\n",
      "           1       0.56      0.64      0.60       185\n",
      "           2       0.55      0.37      0.44       140\n",
      "           3       0.55      0.55      0.55       254\n",
      "           4       0.66      0.63      0.65      1093\n",
      "           5       0.88      0.89      0.88      3995\n",
      "\n",
      "    accuracy                           0.80      5667\n",
      "   macro avg       0.64      0.62      0.62      5667\n",
      "weighted avg       0.80      0.80      0.80      5667\n",
      "\n"
     ]
    }
   ],
   "source": [
    "# Fit the classifier to the training data\n",
    "print('train set accuracy', dtclassifier.fit(count_train, y_train).score(count_train, y_train))\n",
    "# Calculate the accuracy score: score\n",
    "score = metrics.accuracy_score(y_test, preddt)\n",
    "print('test set accuracy', score)\n",
    "#Decision Tree Classification report\n",
    "print(classification_report(y_test, preddt))"
   ]
  },
  {
   "cell_type": "markdown",
   "metadata": {},
   "source": [
    "__<font size = 4 color = 'blue' > Inference <font>__ \n",
    "\n",
    "- NB model predicted 5 star ratings, but the accuracy drops significantly for other ratings\n",
    "\n",
    "- The logistic regression model has better accuracy compared to the NB model.\n",
    "\n",
    "- The decision tree model had the best accuracy compared to other two models tested\n",
    "\n",
    "- I will focus on optimizing the decision tree model "
   ]
  },
  {
   "cell_type": "markdown",
   "metadata": {},
   "source": [
    "___"
   ]
  },
  {
   "cell_type": "markdown",
   "metadata": {
    "ExecuteTime": {
     "end_time": "2020-02-05T04:26:20.947767Z",
     "start_time": "2020-02-05T04:26:20.944204Z"
    }
   },
   "source": [
    "__<font size = 5 color = 'blue' > MODEL OPTIMIZATION <font>__ "
   ]
  },
  {
   "cell_type": "markdown",
   "metadata": {},
   "source": [
    "__<font size = 4 color = 'blue' > GridSearch Cross Validation <font>__ \n",
    "\n",
    "- Grid search is the process of performing hyper parameter tuning in order to determine the optimal values for a given model. "
   ]
  },
  {
   "cell_type": "code",
   "execution_count": 67,
   "metadata": {
    "ExecuteTime": {
     "end_time": "2020-02-05T06:44:35.187122Z",
     "start_time": "2020-02-05T06:44:35.184445Z"
    }
   },
   "outputs": [],
   "source": [
    "#Now to do feature implementation\n",
    "from sklearn.model_selection import GridSearchCV"
   ]
  },
  {
   "cell_type": "code",
   "execution_count": 68,
   "metadata": {
    "ExecuteTime": {
     "end_time": "2020-02-05T06:44:35.726280Z",
     "start_time": "2020-02-05T06:44:35.722353Z"
    }
   },
   "outputs": [],
   "source": [
    "param_grid = {\n",
    "    'criterion': [\"gini\", \"entropy\"],\n",
    "    'max_depth': [100, 200, 500, 1000, 10000, 100000],\n",
    "    'min_samples_split': [10, 20, 50, 100, 1000, 10000],\n",
    "}\n",
    "\n",
    "grid_search = GridSearchCV(estimator = dtclassifier, param_grid = param_grid)"
   ]
  },
  {
   "cell_type": "code",
   "execution_count": 69,
   "metadata": {
    "ExecuteTime": {
     "end_time": "2020-02-05T06:48:05.773696Z",
     "start_time": "2020-02-05T06:44:36.184855Z"
    }
   },
   "outputs": [
    {
     "name": "stderr",
     "output_type": "stream",
     "text": [
      "/Users/nitinmahajan/opt/anaconda3/lib/python3.7/site-packages/sklearn/model_selection/_split.py:1978: FutureWarning: The default value of cv will change from 3 to 5 in version 0.22. Specify it explicitly to silence this warning.\n",
      "  warnings.warn(CV_WARNING, FutureWarning)\n"
     ]
    },
    {
     "data": {
      "text/plain": [
       "{'criterion': 'gini', 'max_depth': 1000, 'min_samples_split': 10}"
      ]
     },
     "execution_count": 69,
     "metadata": {},
     "output_type": "execute_result"
    }
   ],
   "source": [
    "grid_search.fit(count_train, y_train)\n",
    "grid_search.best_params_"
   ]
  },
  {
   "cell_type": "code",
   "execution_count": 70,
   "metadata": {
    "ExecuteTime": {
     "end_time": "2020-02-05T06:48:05.777612Z",
     "start_time": "2020-02-05T06:48:05.775052Z"
    }
   },
   "outputs": [],
   "source": [
    "param_grid = {\n",
    "    'max_depth': [500, 800, 1000, 1200, 1500], \n",
    "    'min_smples_split': [5, 6, 7, 8, 9, 10],\n",
    "}"
   ]
  },
  {
   "cell_type": "code",
   "execution_count": 71,
   "metadata": {
    "ExecuteTime": {
     "end_time": "2020-02-05T06:51:28.109089Z",
     "start_time": "2020-02-05T06:48:05.779995Z"
    }
   },
   "outputs": [
    {
     "name": "stderr",
     "output_type": "stream",
     "text": [
      "/Users/nitinmahajan/opt/anaconda3/lib/python3.7/site-packages/sklearn/model_selection/_split.py:1978: FutureWarning: The default value of cv will change from 3 to 5 in version 0.22. Specify it explicitly to silence this warning.\n",
      "  warnings.warn(CV_WARNING, FutureWarning)\n"
     ]
    },
    {
     "data": {
      "text/plain": [
       "{'criterion': 'gini', 'max_depth': 500, 'min_samples_split': 10}"
      ]
     },
     "execution_count": 71,
     "metadata": {},
     "output_type": "execute_result"
    }
   ],
   "source": [
    "grid_search.fit(count_train, y_train)\n",
    "grid_search.best_params_"
   ]
  },
  {
   "cell_type": "code",
   "execution_count": 72,
   "metadata": {
    "ExecuteTime": {
     "end_time": "2020-02-05T06:51:28.114060Z",
     "start_time": "2020-02-05T06:51:28.110793Z"
    }
   },
   "outputs": [],
   "source": [
    "param_grid = {\n",
    "    'max_depth': [2000, 5000, 8000, 10000], \n",
    "    'min_samples_split': [2, 3, 4, 5],\n",
    "}\n",
    "\n",
    "grid_search = GridSearchCV(estimator = dtclassifier, param_grid = param_grid)"
   ]
  },
  {
   "cell_type": "code",
   "execution_count": 73,
   "metadata": {
    "ExecuteTime": {
     "end_time": "2020-02-05T06:52:56.216773Z",
     "start_time": "2020-02-05T06:51:28.116240Z"
    }
   },
   "outputs": [
    {
     "name": "stderr",
     "output_type": "stream",
     "text": [
      "/Users/nitinmahajan/opt/anaconda3/lib/python3.7/site-packages/sklearn/model_selection/_split.py:1978: FutureWarning: The default value of cv will change from 3 to 5 in version 0.22. Specify it explicitly to silence this warning.\n",
      "  warnings.warn(CV_WARNING, FutureWarning)\n"
     ]
    },
    {
     "data": {
      "text/plain": [
       "{'max_depth': 8000, 'min_samples_split': 2}"
      ]
     },
     "execution_count": 73,
     "metadata": {},
     "output_type": "execute_result"
    }
   ],
   "source": [
    "grid_search.fit(count_train, y_train)\n",
    "grid_search.best_params_"
   ]
  },
  {
   "cell_type": "markdown",
   "metadata": {},
   "source": [
    "__<font color= 'blue' size = 3 > DecisionTreeClassifier <font>__"
   ]
  },
  {
   "cell_type": "code",
   "execution_count": 74,
   "metadata": {
    "ExecuteTime": {
     "end_time": "2020-02-05T06:52:56.220339Z",
     "start_time": "2020-02-05T06:52:56.218046Z"
    }
   },
   "outputs": [],
   "source": [
    "dtclassifieroptimized = DecisionTreeClassifier(max_depth = 5000, min_samples_split = 2)"
   ]
  },
  {
   "cell_type": "code",
   "execution_count": 75,
   "metadata": {
    "ExecuteTime": {
     "end_time": "2020-02-05T06:52:59.087067Z",
     "start_time": "2020-02-05T06:52:56.221938Z"
    }
   },
   "outputs": [
    {
     "data": {
      "text/plain": [
       "0.9834105448930068"
      ]
     },
     "execution_count": 75,
     "metadata": {},
     "output_type": "execute_result"
    }
   ],
   "source": [
    "# Fit the classifier to the training data\n",
    "dtclassifieroptimized.fit(count_train, y_train).score(count_train, y_train)"
   ]
  },
  {
   "cell_type": "code",
   "execution_count": 76,
   "metadata": {
    "ExecuteTime": {
     "end_time": "2020-02-05T06:52:59.098361Z",
     "start_time": "2020-02-05T06:52:59.089284Z"
    }
   },
   "outputs": [
    {
     "name": "stdout",
     "output_type": "stream",
     "text": [
      "0.8035997882477501\n"
     ]
    }
   ],
   "source": [
    "# Create the predicted tags: pred\n",
    "preddtoptimized = dtclassifieroptimized.predict(count_test)\n",
    "\n",
    "# Calculate the accuracy score: score\n",
    "score = metrics.accuracy_score(y_test, preddtoptimized)\n",
    "print(score)"
   ]
  },
  {
   "cell_type": "code",
   "execution_count": 77,
   "metadata": {
    "ExecuteTime": {
     "end_time": "2020-02-05T06:52:59.111540Z",
     "start_time": "2020-02-05T06:52:59.100146Z"
    }
   },
   "outputs": [
    {
     "name": "stdout",
     "output_type": "stream",
     "text": [
      "              precision    recall  f1-score   support\n",
      "\n",
      "           1       0.56      0.61      0.58       185\n",
      "           2       0.55      0.38      0.45       140\n",
      "           3       0.52      0.54      0.53       254\n",
      "           4       0.67      0.64      0.65      1093\n",
      "           5       0.88      0.89      0.88      3995\n",
      "\n",
      "    accuracy                           0.80      5667\n",
      "   macro avg       0.63      0.61      0.62      5667\n",
      "weighted avg       0.80      0.80      0.80      5667\n",
      "\n"
     ]
    }
   ],
   "source": [
    "print(classification_report(y_test, preddtoptimized))"
   ]
  },
  {
   "cell_type": "markdown",
   "metadata": {
    "ExecuteTime": {
     "end_time": "2020-02-05T00:42:23.891055Z",
     "start_time": "2020-02-05T00:42:23.880745Z"
    }
   },
   "source": [
    "---"
   ]
  },
  {
   "cell_type": "code",
   "execution_count": 78,
   "metadata": {
    "ExecuteTime": {
     "end_time": "2020-02-05T06:53:09.005488Z",
     "start_time": "2020-02-05T06:52:59.113144Z"
    }
   },
   "outputs": [
    {
     "data": {
      "text/plain": [
       "0.8318111625854843"
      ]
     },
     "execution_count": 78,
     "metadata": {},
     "output_type": "execute_result"
    }
   ],
   "source": [
    "#do a ridge classifier\n",
    "\n",
    "from sklearn.linear_model import RidgeClassifier\n",
    "\n",
    "ridgeclassifier = RidgeClassifier()\n",
    "\n",
    "# Fit the classifier to the training data\n",
    "ridgeclassifier.fit(count_train, y_train).score(count_train, y_train)"
   ]
  },
  {
   "cell_type": "code",
   "execution_count": 79,
   "metadata": {
    "ExecuteTime": {
     "end_time": "2020-02-05T06:53:09.011382Z",
     "start_time": "2020-02-05T06:53:09.006726Z"
    }
   },
   "outputs": [
    {
     "name": "stdout",
     "output_type": "stream",
     "text": [
      "0.7672489853538027\n"
     ]
    }
   ],
   "source": [
    "# Create the predicted tags: pred\n",
    "predrc = ridgeclassifier.predict(count_test)\n",
    "\n",
    "# Calculate the accuracy score: score\n",
    "score = metrics.accuracy_score(y_test, predrc)\n",
    "print(score)"
   ]
  },
  {
   "cell_type": "code",
   "execution_count": 80,
   "metadata": {
    "ExecuteTime": {
     "end_time": "2020-02-05T06:53:09.022970Z",
     "start_time": "2020-02-05T06:53:09.012576Z"
    }
   },
   "outputs": [
    {
     "name": "stdout",
     "output_type": "stream",
     "text": [
      "              precision    recall  f1-score   support\n",
      "\n",
      "           1       0.72      0.48      0.58       185\n",
      "           2       0.72      0.22      0.34       140\n",
      "           3       0.74      0.20      0.31       254\n",
      "           4       0.63      0.31      0.41      1093\n",
      "           5       0.78      0.96      0.86      3995\n",
      "\n",
      "    accuracy                           0.77      5667\n",
      "   macro avg       0.72      0.43      0.50      5667\n",
      "weighted avg       0.75      0.77      0.73      5667\n",
      "\n"
     ]
    }
   ],
   "source": [
    "print(classification_report(y_test, predrc))"
   ]
  },
  {
   "cell_type": "code",
   "execution_count": 81,
   "metadata": {
    "ExecuteTime": {
     "end_time": "2020-02-05T06:53:09.026513Z",
     "start_time": "2020-02-05T06:53:09.024260Z"
    }
   },
   "outputs": [],
   "source": [
    "#Try to reoptimize the decision tree to stop overfitting\n",
    "\n",
    "dtclassifierreoptimized = DecisionTreeClassifier(max_depth = 100, min_samples_split = 2)"
   ]
  },
  {
   "cell_type": "code",
   "execution_count": 82,
   "metadata": {
    "ExecuteTime": {
     "end_time": "2020-02-05T06:53:10.952345Z",
     "start_time": "2020-02-05T06:53:09.027767Z"
    }
   },
   "outputs": [
    {
     "data": {
      "text/plain": [
       "0.9381866313699537"
      ]
     },
     "execution_count": 82,
     "metadata": {},
     "output_type": "execute_result"
    }
   ],
   "source": [
    "# Fit the classifier to the training data\n",
    "dtclassifierreoptimized.fit(count_train, y_train).score(count_train, y_train)"
   ]
  },
  {
   "cell_type": "code",
   "execution_count": 83,
   "metadata": {
    "ExecuteTime": {
     "end_time": "2020-02-05T06:53:10.960706Z",
     "start_time": "2020-02-05T06:53:10.953724Z"
    }
   },
   "outputs": [
    {
     "name": "stdout",
     "output_type": "stream",
     "text": [
      "0.7891300511734604\n"
     ]
    }
   ],
   "source": [
    "# Create the predicted tags: pred\n",
    "preddtreoptimized = dtclassifierreoptimized.predict(count_test)\n",
    "\n",
    "# Calculate the accuracy score: score\n",
    "score = metrics.accuracy_score(y_test, preddtreoptimized)\n",
    "print(score)"
   ]
  },
  {
   "cell_type": "code",
   "execution_count": 84,
   "metadata": {
    "ExecuteTime": {
     "end_time": "2020-02-05T06:53:10.973108Z",
     "start_time": "2020-02-05T06:53:10.961985Z"
    }
   },
   "outputs": [
    {
     "name": "stdout",
     "output_type": "stream",
     "text": [
      "              precision    recall  f1-score   support\n",
      "\n",
      "           1       0.60      0.54      0.57       185\n",
      "           2       0.58      0.35      0.44       140\n",
      "           3       0.56      0.45      0.50       254\n",
      "           4       0.66      0.48      0.56      1093\n",
      "           5       0.83      0.92      0.88      3995\n",
      "\n",
      "    accuracy                           0.79      5667\n",
      "   macro avg       0.65      0.55      0.59      5667\n",
      "weighted avg       0.77      0.79      0.78      5667\n",
      "\n"
     ]
    }
   ],
   "source": [
    "print(classification_report(y_test, preddtreoptimized))"
   ]
  },
  {
   "cell_type": "code",
   "execution_count": 85,
   "metadata": {
    "ExecuteTime": {
     "end_time": "2020-02-05T06:53:10.976843Z",
     "start_time": "2020-02-05T06:53:10.974445Z"
    }
   },
   "outputs": [],
   "source": [
    "#Try to reoptimize the decision tree to stop overfitting\n",
    "\n",
    "dtclassifierreoptimized = DecisionTreeClassifier(max_depth = 50, min_samples_split = 2)"
   ]
  },
  {
   "cell_type": "code",
   "execution_count": 86,
   "metadata": {
    "ExecuteTime": {
     "end_time": "2020-02-05T06:53:12.174115Z",
     "start_time": "2020-02-05T06:53:10.978126Z"
    }
   },
   "outputs": [
    {
     "data": {
      "text/plain": [
       "0.8830796382086918"
      ]
     },
     "execution_count": 86,
     "metadata": {},
     "output_type": "execute_result"
    }
   ],
   "source": [
    "# Fit the classifier to the training data\n",
    "dtclassifierreoptimized.fit(count_train, y_train).score(count_train, y_train)"
   ]
  },
  {
   "cell_type": "code",
   "execution_count": 87,
   "metadata": {
    "ExecuteTime": {
     "end_time": "2020-02-05T06:53:12.182295Z",
     "start_time": "2020-02-05T06:53:12.175768Z"
    }
   },
   "outputs": [
    {
     "name": "stdout",
     "output_type": "stream",
     "text": [
      "0.7691900476442562\n"
     ]
    }
   ],
   "source": [
    "# Create the predicted tags: pred\n",
    "preddtreoptimized = dtclassifierreoptimized.predict(count_test)\n",
    "\n",
    "# Calculate the accuracy score: score\n",
    "score = metrics.accuracy_score(y_test, preddtreoptimized)\n",
    "print(score)"
   ]
  },
  {
   "cell_type": "code",
   "execution_count": 88,
   "metadata": {
    "ExecuteTime": {
     "end_time": "2020-02-05T06:53:12.193890Z",
     "start_time": "2020-02-05T06:53:12.183458Z"
    }
   },
   "outputs": [
    {
     "name": "stdout",
     "output_type": "stream",
     "text": [
      "              precision    recall  f1-score   support\n",
      "\n",
      "           1       0.60      0.48      0.53       185\n",
      "           2       0.66      0.29      0.40       140\n",
      "           3       0.51      0.33      0.40       254\n",
      "           4       0.66      0.34      0.45      1093\n",
      "           5       0.80      0.94      0.86      3995\n",
      "\n",
      "    accuracy                           0.77      5667\n",
      "   macro avg       0.65      0.48      0.53      5667\n",
      "weighted avg       0.75      0.77      0.74      5667\n",
      "\n"
     ]
    }
   ],
   "source": [
    "print(classification_report(y_test, preddtreoptimized))"
   ]
  },
  {
   "cell_type": "code",
   "execution_count": 89,
   "metadata": {
    "ExecuteTime": {
     "end_time": "2020-02-05T06:53:12.197466Z",
     "start_time": "2020-02-05T06:53:12.195048Z"
    }
   },
   "outputs": [],
   "source": [
    "dtclassifierreoptimized = DecisionTreeClassifier(max_depth = 500, min_samples_split = 2)"
   ]
  },
  {
   "cell_type": "code",
   "execution_count": 90,
   "metadata": {
    "ExecuteTime": {
     "end_time": "2020-02-05T06:53:15.071814Z",
     "start_time": "2020-02-05T06:53:12.198586Z"
    }
   },
   "outputs": [
    {
     "data": {
      "text/plain": [
       "0.9834105448930068"
      ]
     },
     "execution_count": 90,
     "metadata": {},
     "output_type": "execute_result"
    }
   ],
   "source": [
    "# Fit the classifier to the training data\n",
    "dtclassifierreoptimized.fit(count_train, y_train).score(count_train, y_train)"
   ]
  },
  {
   "cell_type": "code",
   "execution_count": 91,
   "metadata": {
    "ExecuteTime": {
     "end_time": "2020-02-05T06:53:15.090891Z",
     "start_time": "2020-02-05T06:53:15.074785Z"
    }
   },
   "outputs": [
    {
     "name": "stdout",
     "output_type": "stream",
     "text": [
      "0.807128992412211\n",
      "              precision    recall  f1-score   support\n",
      "\n",
      "           1       0.59      0.64      0.61       185\n",
      "           2       0.60      0.38      0.46       140\n",
      "           3       0.54      0.53      0.54       254\n",
      "           4       0.67      0.63      0.65      1093\n",
      "           5       0.87      0.90      0.88      3995\n",
      "\n",
      "    accuracy                           0.81      5667\n",
      "   macro avg       0.65      0.62      0.63      5667\n",
      "weighted avg       0.80      0.81      0.80      5667\n",
      "\n"
     ]
    }
   ],
   "source": [
    "# Create the predicted tags: pred\n",
    "preddtreoptimized = dtclassifierreoptimized.predict(count_test)\n",
    "\n",
    "# Calculate the accuracy score: score\n",
    "score = metrics.accuracy_score(y_test, preddtreoptimized)\n",
    "print(score)\n",
    "print(classification_report(y_test, preddtreoptimized))"
   ]
  },
  {
   "cell_type": "code",
   "execution_count": 92,
   "metadata": {
    "ExecuteTime": {
     "end_time": "2020-02-05T06:53:15.094979Z",
     "start_time": "2020-02-05T06:53:15.092361Z"
    }
   },
   "outputs": [],
   "source": [
    "dtclassifierreoptimized = DecisionTreeClassifier(max_depth = 20, min_samples_split = 2)"
   ]
  },
  {
   "cell_type": "code",
   "execution_count": 93,
   "metadata": {
    "ExecuteTime": {
     "end_time": "2020-02-05T06:53:15.560858Z",
     "start_time": "2020-02-05T06:53:15.096452Z"
    }
   },
   "outputs": [
    {
     "data": {
      "text/plain": [
       "0.7805868078535186"
      ]
     },
     "execution_count": 93,
     "metadata": {},
     "output_type": "execute_result"
    }
   ],
   "source": [
    "# Fit the classifier to the training data\n",
    "dtclassifierreoptimized.fit(count_train, y_train).score(count_train, y_train)"
   ]
  },
  {
   "cell_type": "code",
   "execution_count": 94,
   "metadata": {
    "ExecuteTime": {
     "end_time": "2020-02-05T06:53:15.573930Z",
     "start_time": "2020-02-05T06:53:15.561944Z"
    }
   },
   "outputs": [
    {
     "name": "stdout",
     "output_type": "stream",
     "text": [
      "0.7367213693312158\n",
      "              precision    recall  f1-score   support\n",
      "\n",
      "           1       0.53      0.34      0.41       185\n",
      "           2       0.60      0.13      0.21       140\n",
      "           3       0.52      0.19      0.28       254\n",
      "           4       0.64      0.14      0.23      1093\n",
      "           5       0.75      0.97      0.85      3995\n",
      "\n",
      "    accuracy                           0.74      5667\n",
      "   macro avg       0.61      0.35      0.40      5667\n",
      "weighted avg       0.71      0.74      0.67      5667\n",
      "\n"
     ]
    }
   ],
   "source": [
    "# Create the predicted tags: pred\n",
    "preddtreoptimized = dtclassifierreoptimized.predict(count_test)\n",
    "\n",
    "# Calculate the accuracy score: score\n",
    "score = metrics.accuracy_score(y_test, preddtreoptimized)\n",
    "print(score)\n",
    "print(classification_report(y_test, preddtreoptimized))"
   ]
  },
  {
   "cell_type": "markdown",
   "metadata": {},
   "source": [
    "__<font color= 'blue' size = 4 > Oversampling <font>__\n",
    "    \n",
    "Regardless of the model, the accuracy for the 5 star ratings are much higher than the other ratings, especially 1, 2, and 3 star ratings. To address this problem, we can  try oversampling."
   ]
  },
  {
   "cell_type": "markdown",
   "metadata": {
    "ExecuteTime": {
     "end_time": "2020-02-05T06:32:36.929317Z",
     "start_time": "2020-02-05T06:32:36.919479Z"
    }
   },
   "source": [
    "__<font color= 'blue' size = 4 > SMOTE (Synthetic Minority Oversampling Technique) – Oversampling <font>__\n",
    "\n",
    "- SMOTE oversamples the minority class, it does not rely on reusing previously existing observations. \n",
    "\n",
    "- SMOTE creates new (synthetic) observations based on the observations in the data"
   ]
  },
  {
   "cell_type": "code",
   "execution_count": 95,
   "metadata": {
    "ExecuteTime": {
     "end_time": "2020-02-05T06:53:18.606498Z",
     "start_time": "2020-02-05T06:53:15.575578Z"
    }
   },
   "outputs": [
    {
     "name": "stderr",
     "output_type": "stream",
     "text": [
      "Using TensorFlow backend.\n"
     ]
    }
   ],
   "source": [
    "from imblearn import under_sampling \n",
    "from imblearn import over_sampling\n",
    "from imblearn.over_sampling import SMOTE"
   ]
  },
  {
   "cell_type": "code",
   "execution_count": 96,
   "metadata": {
    "ExecuteTime": {
     "end_time": "2020-02-05T06:53:25.953546Z",
     "start_time": "2020-02-05T06:53:18.608123Z"
    }
   },
   "outputs": [],
   "source": [
    "sm = SMOTE(sampling_strategy='minority')\n",
    "x_train_res, y_train_res = sm.fit_sample(count_train, y_train)"
   ]
  },
  {
   "cell_type": "code",
   "execution_count": 97,
   "metadata": {
    "ExecuteTime": {
     "end_time": "2020-02-05T06:53:25.964771Z",
     "start_time": "2020-02-05T06:53:25.955000Z"
    }
   },
   "outputs": [
    {
     "name": "stdout",
     "output_type": "stream",
     "text": [
      "Resampled dataset shape Counter({5: 15902, 2: 15902, 4: 4555, 3: 952, 1: 780})\n"
     ]
    }
   ],
   "source": [
    "from collections import Counter\n",
    "print('Resampled dataset shape' , Counter(y_train_res))"
   ]
  },
  {
   "cell_type": "code",
   "execution_count": 98,
   "metadata": {
    "ExecuteTime": {
     "end_time": "2020-02-05T06:53:25.971734Z",
     "start_time": "2020-02-05T06:53:25.966138Z"
    }
   },
   "outputs": [
    {
     "name": "stdout",
     "output_type": "stream",
     "text": [
      "Resampled dataset shape Counter({5: 15902, 4: 4555, 3: 952, 1: 780, 2: 476})\n"
     ]
    }
   ],
   "source": [
    "print('Resampled dataset shape' , Counter(y_train))"
   ]
  },
  {
   "cell_type": "code",
   "execution_count": 99,
   "metadata": {
    "ExecuteTime": {
     "end_time": "2020-02-05T06:53:47.644739Z",
     "start_time": "2020-02-05T06:53:25.973198Z"
    }
   },
   "outputs": [
    {
     "data": {
      "text/plain": [
       "0.8450290094773043"
      ]
     },
     "execution_count": 99,
     "metadata": {},
     "output_type": "execute_result"
    }
   ],
   "source": [
    "#clf_rf = DecisionTreeClassifier(max_depth = 65)\n",
    "clf_rf = RidgeClassifier()\n",
    "clf_rf.fit(x_train_res, y_train_res).score(x_train_res, y_train_res)"
   ]
  },
  {
   "cell_type": "code",
   "execution_count": 100,
   "metadata": {
    "ExecuteTime": {
     "end_time": "2020-02-05T06:53:47.648945Z",
     "start_time": "2020-02-05T06:53:47.645865Z"
    }
   },
   "outputs": [],
   "source": [
    "oversamplpred = clf_rf.predict(count_test)"
   ]
  },
  {
   "cell_type": "code",
   "execution_count": 101,
   "metadata": {
    "ExecuteTime": {
     "end_time": "2020-02-05T06:53:47.662253Z",
     "start_time": "2020-02-05T06:53:47.650141Z"
    }
   },
   "outputs": [
    {
     "name": "stdout",
     "output_type": "stream",
     "text": [
      "0.6590788777130757\n",
      "              precision    recall  f1-score   support\n",
      "\n",
      "           1       0.80      0.40      0.53       185\n",
      "           2       0.08      0.70      0.15       140\n",
      "           3       0.85      0.19      0.30       254\n",
      "           4       0.69      0.30      0.42      1093\n",
      "           5       0.83      0.80      0.81      3995\n",
      "\n",
      "    accuracy                           0.66      5667\n",
      "   macro avg       0.65      0.48      0.44      5667\n",
      "weighted avg       0.78      0.66      0.69      5667\n",
      "\n"
     ]
    }
   ],
   "source": [
    "#classification report for ridge classifier with smote on just the minority\n",
    "score = metrics.accuracy_score(y_test, oversamplpred)\n",
    "print(score)\n",
    "print(classification_report(y_test, oversamplpred))"
   ]
  },
  {
   "cell_type": "code",
   "execution_count": 102,
   "metadata": {
    "ExecuteTime": {
     "end_time": "2020-02-05T06:54:14.867643Z",
     "start_time": "2020-02-05T06:53:47.663520Z"
    }
   },
   "outputs": [],
   "source": [
    "#Now check if we smote on 'not majority'\n",
    "sm = SMOTE(sampling_strategy='not majority')\n",
    "x_train_res, y_train_res = sm.fit_sample(count_train, y_train)"
   ]
  },
  {
   "cell_type": "code",
   "execution_count": 103,
   "metadata": {
    "ExecuteTime": {
     "end_time": "2020-02-05T06:54:14.887652Z",
     "start_time": "2020-02-05T06:54:14.869037Z"
    }
   },
   "outputs": [
    {
     "name": "stdout",
     "output_type": "stream",
     "text": [
      "Resampled dataset shape Counter({5: 15902, 4: 15902, 1: 15902, 3: 15902, 2: 15902})\n"
     ]
    }
   ],
   "source": [
    "from collections import Counter\n",
    "print('Resampled dataset shape %s' % Counter(y_train_res))"
   ]
  },
  {
   "cell_type": "code",
   "execution_count": 104,
   "metadata": {
    "ExecuteTime": {
     "end_time": "2020-02-05T06:54:14.894831Z",
     "start_time": "2020-02-05T06:54:14.889282Z"
    }
   },
   "outputs": [
    {
     "name": "stdout",
     "output_type": "stream",
     "text": [
      "sampled dataset shape Counter({5: 15902, 4: 4555, 3: 952, 1: 780, 2: 476})\n"
     ]
    }
   ],
   "source": [
    "print('sampled dataset shape %s' % Counter(y_train))"
   ]
  },
  {
   "cell_type": "code",
   "execution_count": 105,
   "metadata": {
    "ExecuteTime": {
     "end_time": "2020-02-05T06:55:18.901046Z",
     "start_time": "2020-02-05T06:54:14.896434Z"
    }
   },
   "outputs": [
    {
     "data": {
      "text/plain": [
       "0.6337190290529493"
      ]
     },
     "execution_count": 105,
     "metadata": {},
     "output_type": "execute_result"
    }
   ],
   "source": [
    "clf_rf = RidgeClassifier()\n",
    "clf_rf.fit(x_train_res, y_train_res).score(x_train_res, y_train_res)"
   ]
  },
  {
   "cell_type": "code",
   "execution_count": 106,
   "metadata": {
    "ExecuteTime": {
     "end_time": "2020-02-05T06:55:18.916957Z",
     "start_time": "2020-02-05T06:55:18.902390Z"
    }
   },
   "outputs": [
    {
     "name": "stdout",
     "output_type": "stream",
     "text": [
      "0.6266101994000353\n",
      "              precision    recall  f1-score   support\n",
      "\n",
      "           1       0.28      0.63      0.39       185\n",
      "           2       0.19      0.44      0.26       140\n",
      "           3       0.21      0.35      0.26       254\n",
      "           4       0.42      0.50      0.45      1093\n",
      "           5       0.86      0.69      0.76      3995\n",
      "\n",
      "    accuracy                           0.63      5667\n",
      "   macro avg       0.39      0.52      0.42      5667\n",
      "weighted avg       0.71      0.63      0.66      5667\n",
      "\n"
     ]
    }
   ],
   "source": [
    "#Classification report on ridge classifier smoted on 'not majority'\n",
    "oversamplpred = clf_rf.predict(count_test)\n",
    "score = metrics.accuracy_score(y_test, oversamplpred)\n",
    "print(score)\n",
    "print(classification_report(y_test, oversamplpred))"
   ]
  },
  {
   "cell_type": "code",
   "execution_count": 107,
   "metadata": {
    "ExecuteTime": {
     "end_time": "2020-02-05T06:55:46.663562Z",
     "start_time": "2020-02-05T06:55:18.918488Z"
    }
   },
   "outputs": [],
   "source": [
    "sm = SMOTE(sampling_strategy='not majority', k_neighbors=6, m_neighbors=15)\n",
    "x_train_res, y_train_res = sm.fit_sample(count_train, y_train)"
   ]
  },
  {
   "cell_type": "code",
   "execution_count": 108,
   "metadata": {
    "ExecuteTime": {
     "end_time": "2020-02-05T06:56:54.613356Z",
     "start_time": "2020-02-05T06:55:46.665009Z"
    }
   },
   "outputs": [
    {
     "data": {
      "text/plain": [
       "0.6274305118852974"
      ]
     },
     "execution_count": 108,
     "metadata": {},
     "output_type": "execute_result"
    }
   ],
   "source": [
    "clf_rf = RidgeClassifier()\n",
    "clf_rf.fit(x_train_res, y_train_res).score(x_train_res, y_train_res)"
   ]
  },
  {
   "cell_type": "code",
   "execution_count": 109,
   "metadata": {
    "ExecuteTime": {
     "end_time": "2020-02-05T06:56:54.629616Z",
     "start_time": "2020-02-05T06:56:54.614784Z"
    }
   },
   "outputs": [
    {
     "name": "stdout",
     "output_type": "stream",
     "text": [
      "0.6229045350273513\n",
      "              precision    recall  f1-score   support\n",
      "\n",
      "           1       0.27      0.63      0.38       185\n",
      "           2       0.20      0.46      0.27       140\n",
      "           3       0.21      0.34      0.26       254\n",
      "           4       0.41      0.48      0.45      1093\n",
      "           5       0.85      0.68      0.76      3995\n",
      "\n",
      "    accuracy                           0.62      5667\n",
      "   macro avg       0.39      0.52      0.42      5667\n",
      "weighted avg       0.70      0.62      0.65      5667\n",
      "\n"
     ]
    }
   ],
   "source": [
    "#Classification report on ridge classifier smoted on 'not majority', k_neighbors=6, m_neighbors=15\n",
    "oversamplpred = clf_rf.predict(count_test)\n",
    "score = metrics.accuracy_score(y_test, oversamplpred)\n",
    "print(score)\n",
    "print(classification_report(y_test, oversamplpred))"
   ]
  },
  {
   "cell_type": "markdown",
   "metadata": {},
   "source": [
    "__<font color= 'GREEN' size = 5 > Final Thoughts <font>__\n",
    "    \n",
    "- The goal of this project was to predict amazon review ratings based on the text of the review.\n",
    "    \n",
    "- Effect of the class imbalance within the data set is important to note. For example - The lack of reviews that were not rated below 5 stars made predicting for those classes very difficult. \n",
    "\n",
    "- Oversampling like SMOTE also could not improve the predictions for those classes. \n",
    "\n",
    "- With the analysis presented here and the problem with the overfit for most models, the decision tree model with a max depth of 20, and a minimum samples split of 2 is better than all others. This model better as overfitting was limited with a train/test accuracy difference of 0.04, and test accuracy was at an acceptaple level of 0.74.\n",
    "\n",
    "- For `further analysis`, we can built some other models and also, spliting the data for validation data set as well \n",
    "\n",
    "- Feature and parameter optimization can  further be explored more."
   ]
  },
  {
   "cell_type": "code",
   "execution_count": null,
   "metadata": {},
   "outputs": [],
   "source": []
  }
 ],
 "metadata": {
  "kernelspec": {
   "display_name": "Python 3",
   "language": "python",
   "name": "python3"
  },
  "language_info": {
   "codemirror_mode": {
    "name": "ipython",
    "version": 3
   },
   "file_extension": ".py",
   "mimetype": "text/x-python",
   "name": "python",
   "nbconvert_exporter": "python",
   "pygments_lexer": "ipython3",
   "version": "3.7.4"
  }
 },
 "nbformat": 4,
 "nbformat_minor": 2
}
